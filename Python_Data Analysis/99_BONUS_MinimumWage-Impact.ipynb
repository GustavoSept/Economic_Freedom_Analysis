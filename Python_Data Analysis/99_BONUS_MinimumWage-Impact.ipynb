{
 "cells": [
  {
   "cell_type": "markdown",
   "metadata": {},
   "source": [
    "# What is the impact of Minimum Wage laws on Employment Rates?\n",
    "Given the intensity of the minimum wage (measured in relation to local GDP per Capita), what does the Employment Rate of that country looks like?\n",
    "\n",
    "We'll analyze only the latest number available for simplicity sake. Though a deeper analysis (using a time-series) would obviously yield clearer results.\n",
    "\n",
    "Sources:\n",
    "- A) https://en.wikipedia.org/wiki/List_of_countries_by_minimum_wage\n",
    "- B) https://databank.worldbank.org/reports.aspx?source=2&series=SL.EMP.WORK.ZS&country=#"
   ]
  },
  {
   "cell_type": "code",
   "execution_count": 14,
   "metadata": {},
   "outputs": [],
   "source": [
    "import pandas as pd, numpy as np, seaborn as sns, matplotlib.pyplot as plt"
   ]
  },
  {
   "cell_type": "code",
   "execution_count": 15,
   "metadata": {},
   "outputs": [],
   "source": [
    "df_employ = pd.read_csv('../Data_Sets/originalData/99_employment_data.csv')\n",
    "df_minWage = pd.read_csv('../Data_Sets/originalData/99_minimumWage.csv')"
   ]
  },
  {
   "cell_type": "markdown",
   "metadata": {},
   "source": [
    "## Cleaning Data Sets"
   ]
  },
  {
   "cell_type": "markdown",
   "metadata": {},
   "source": [
    "### Renaming countries"
   ]
  },
  {
   "cell_type": "code",
   "execution_count": 16,
   "metadata": {},
   "outputs": [],
   "source": [
    "country_name_mapping = {\n",
    "    'Bahamas, The': 'The Bahamas',\n",
    "    \"Cote d'Ivoire\": \"Côte d'Ivoire\",\n",
    "    'Venezuela, RB': 'Venezuela',\n",
    "    'Viet Nam': 'Vietnam',\n",
    "    'Turkiye': 'Turkey',\n",
    "    'Gambia, The': 'The Gambia',\n",
    "    'Yemen, Rep.': 'Yemen',\n",
    "    'Cabo Verde': 'Cape Verde',\n",
    "    'Congo, Dem. Rep.': 'Democratic Republic of the Congo',\n",
    "    'Congo, Rep.': 'Republic of the Congo',\n",
    "    'Egypt, Arab Rep.': 'Egypt',\n",
    "    'Czechia': 'Czech Republic',\n",
    "    'Micronesia, Fed. Sts.': 'Federated States of Micronesia',\n",
    "    'Hong Kong SAR, China': 'Hong Kong',\n",
    "    'Lao PDR': 'Laos',\n",
    "    'Macao SAR, China': 'Macau',\n",
    "    \"Korea, Dem. People's Rep.\": 'North Korea',\n",
    "    'Korea, Rep.': 'South Korea',\n",
    "    'Iran, Islamic Rep.': 'Iran',\n",
    "    'Kyrgyz Republic': 'Kyrgyzstan',\n",
    "    'Slovak Republic': 'Slovakia',\n",
    "    'Brunei Darussalam': 'Brunei',\n",
    "    'Russian Federation': 'Russia',\n",
    "    'Syrian Arab Republic': 'Syria',\n",
    "    'St. Kitts and Nevis': 'Saint Kitts and Nevis',\n",
    "    'St. Lucia': 'Saint Lucia',\n",
    "    'St. Vincent and the Grenadines': 'Saint Vincent and the Grenadines',\n",
    "    'Sao Tome and Principe': 'São Tomé and Príncipe'\n",
    "}\n",
    "\n",
    "# Use apply with lambda to update 'Country Name' column\n",
    "df_employ['Country Name'] = df_employ['Country Name'].apply(lambda x: country_name_mapping.get(x, x))"
   ]
  },
  {
   "cell_type": "markdown",
   "metadata": {},
   "source": [
    "### Verifying Names before merge\n",
    "Using some set algebra, we can see if there's any country in one data set that is not in the other. And also check if there's any name we should manually fix."
   ]
  },
  {
   "cell_type": "code",
   "execution_count": 17,
   "metadata": {},
   "outputs": [
    {
     "data": {
      "text/plain": [
       "{'American Samoa',\n",
       " 'Argentina',\n",
       " 'Aruba',\n",
       " 'Bermuda',\n",
       " 'British Virgin Islands',\n",
       " 'Cayman Islands',\n",
       " 'Channel Islands',\n",
       " 'Curacao',\n",
       " 'Faroe Islands',\n",
       " 'French Polynesia',\n",
       " 'Gibraltar',\n",
       " 'Greenland',\n",
       " 'Guam',\n",
       " 'Guernsey',\n",
       " 'Jersey',\n",
       " 'New Caledonia',\n",
       " 'Northern Cyprus',\n",
       " 'Northern Mariana Islands',\n",
       " 'Palestine',\n",
       " 'Puerto Rico',\n",
       " 'Sint Maarten (Dutch part)',\n",
       " 'St. Martin (French part)',\n",
       " 'Taiwan',\n",
       " 'Turkmenistan',\n",
       " 'Turks and Caicos Islands',\n",
       " 'Virgin Islands (U.S.)',\n",
       " 'West Bank and Gaza',\n",
       " nan}"
      ]
     },
     "execution_count": 17,
     "metadata": {},
     "output_type": "execute_result"
    }
   ],
   "source": [
    "A = set(df_employ['Country Name'])\n",
    "B = set(df_minWage['Country'])\n",
    "\n",
    "C1 = A - B\n",
    "C2 = B - A\n",
    "C = set(list(C1) + list(C2))\n",
    "C"
   ]
  },
  {
   "cell_type": "markdown",
   "metadata": {},
   "source": [
    "### Deleting countries only present in one of the datasets"
   ]
  },
  {
   "cell_type": "code",
   "execution_count": 18,
   "metadata": {},
   "outputs": [],
   "source": [
    "countries_to_delete = list(C)\n",
    "df_employ = df_employ[~df_employ['Country Name'].isin(countries_to_delete)]\n",
    "\n",
    "df_minWage = df_minWage[~df_minWage['Country'].isin(countries_to_delete)]"
   ]
  },
  {
   "cell_type": "markdown",
   "metadata": {},
   "source": [
    "### Dealing with missing values"
   ]
  },
  {
   "cell_type": "code",
   "execution_count": 19,
   "metadata": {},
   "outputs": [],
   "source": [
    "df_employ.replace(\"..\", np.nan, inplace=True)\n",
    "\n",
    "\n",
    "df_employ.dropna(subset=['2019 [YR2019]'], inplace=True)\n",
    "\n",
    "# rotating the Data Frame for easier interpolation\n",
    "df_employ_long = pd.melt(df_employ, \n",
    "                         id_vars=['Country Name'], \n",
    "                         value_vars=['1990 [YR1990]', '2000 [YR2000]', '2013 [YR2013]', '2014 [YR2014]', \n",
    "                                     '2015 [YR2015]', '2016 [YR2016]', '2017 [YR2017]', '2018 [YR2018]', \n",
    "                                     '2019 [YR2019]', '2020 [YR2020]', '2021 [YR2021]', '2022 [YR2022]'],\n",
    "                         var_name='Index Year', \n",
    "                         value_name='Emp_Rate')\n",
    "\n",
    "# Cleaning the 'Index Year' to keep only the year part\n",
    "df_employ_long['Index Year'] = df_employ_long['Index Year'].str.extract('(\\d{4})')\n",
    "\n",
    "# Getting the latest Employment Rate statistic\n",
    "df_employ_filled = df_employ_long.groupby('Country Name', as_index=False).apply(lambda group: group.ffill())\n",
    "df_employ_filled.reset_index(drop=True, inplace=True)\n",
    "\n",
    "\n",
    "df_employ_latest = df_employ_filled[df_employ_filled['Index Year'] == \"2022\"].dropna()[['Country Name','Emp_Rate']]\n",
    "df_employ_latest['Emp_Rate'] = df_employ_latest['Emp_Rate'].astype('float')"
   ]
  },
  {
   "cell_type": "code",
   "execution_count": 20,
   "metadata": {},
   "outputs": [
    {
     "data": {
      "text/html": [
       "<div>\n",
       "<style scoped>\n",
       "    .dataframe tbody tr th:only-of-type {\n",
       "        vertical-align: middle;\n",
       "    }\n",
       "\n",
       "    .dataframe tbody tr th {\n",
       "        vertical-align: top;\n",
       "    }\n",
       "\n",
       "    .dataframe thead th {\n",
       "        text-align: right;\n",
       "    }\n",
       "</style>\n",
       "<table border=\"1\" class=\"dataframe\">\n",
       "  <thead>\n",
       "    <tr style=\"text-align: right;\">\n",
       "      <th></th>\n",
       "      <th>Country</th>\n",
       "      <th>% of GDP per capita</th>\n",
       "    </tr>\n",
       "  </thead>\n",
       "  <tbody>\n",
       "    <tr>\n",
       "      <th>0</th>\n",
       "      <td>Central African Republic</td>\n",
       "      <td>2.203</td>\n",
       "    </tr>\n",
       "    <tr>\n",
       "      <th>1</th>\n",
       "      <td>Comoros</td>\n",
       "      <td>1.995</td>\n",
       "    </tr>\n",
       "  </tbody>\n",
       "</table>\n",
       "</div>"
      ],
      "text/plain": [
       "                    Country  % of GDP per capita\n",
       "0  Central African Republic                2.203\n",
       "1                   Comoros                1.995"
      ]
     },
     "execution_count": 20,
     "metadata": {},
     "output_type": "execute_result"
    }
   ],
   "source": [
    "df_minWage_2 = df_minWage[['Country', r\"% of GDP per capita\"]].dropna()\n",
    "\n",
    "# Removing the '%' sign and converting the column to float\n",
    "df_minWage_2['% of GDP per capita'] = df_minWage_2['% of GDP per capita'].str.replace('%', '').astype(float)/100\n",
    "\n",
    "df_minWage_2.head(2)"
   ]
  },
  {
   "cell_type": "markdown",
   "metadata": {},
   "source": [
    "### Doing the actual merge"
   ]
  },
  {
   "cell_type": "code",
   "execution_count": 21,
   "metadata": {},
   "outputs": [],
   "source": [
    "df = df_employ_latest.merge(df_minWage_2,how=\"left\",left_on=\"Country Name\", right_on=\"Country\")\n",
    "\n",
    "df = df[[\"Country Name\", \"Emp_Rate\",r\"% of GDP per capita\"]].dropna()"
   ]
  },
  {
   "cell_type": "markdown",
   "metadata": {},
   "source": [
    "## Data Visualization"
   ]
  },
  {
   "cell_type": "code",
   "execution_count": 24,
   "metadata": {},
   "outputs": [
    {
     "data": {
      "image/png": "[encoded data removed]",
      "text/plain": [
       "<Figure size 640x480 with 1 Axes>"
      ]
     },
     "metadata": {},
     "output_type": "display_data"
    }
   ],
   "source": [
    "sns.scatterplot(x=r'% of GDP per capita', y='Emp_Rate', hue='Emp_Rate', data=df, legend=False, palette='viridis')\n",
    "plt.title('Minimum Wage vs Employment Rate')\n",
    "plt.show()"
   ]
  },
  {
   "cell_type": "code",
   "execution_count": null,
   "metadata": {},
   "outputs": [],
   "source": []
  }
 ],
 "metadata": {
  "kernelspec": {
   "display_name": "env_EF",
   "language": "python",
   "name": "python3"
  },
  "language_info": {
   "codemirror_mode": {
    "name": "ipython",
    "version": 3
   },
   "file_extension": ".py",
   "mimetype": "text/x-python",
   "name": "python",
   "nbconvert_exporter": "python",
   "pygments_lexer": "ipython3",
   "version": "3.11.6"
  }
 },
 "nbformat": 4,
 "nbformat_minor": 2
}
