{
 "cells": [
  {
   "cell_type": "code",
   "execution_count": 1,
   "metadata": {},
   "outputs": [],
   "source": [
    "import pandas as pd\n",
    "\n",
    "import requests\n",
    "import json\n",
    "from bs4 import BeautifulSoup\n",
    "\n",
    "from fuzzywuzzy import process"
   ]
  },
  {
   "cell_type": "code",
   "execution_count": 2,
   "metadata": {},
   "outputs": [],
   "source": [
    "# I'll use a processed Data Set from an earlier notebook as the stardard for Country Names\n",
    "df = pd.read_csv(\"..\\Data_Sets\\processed\\economicData_1995-2022.csv\") \n",
    "df_refNames = pd.DataFrame({    \n",
    "    'Standard Names': df['Country Name'].unique()\n",
    "})"
   ]
  },
  {
   "cell_type": "code",
   "execution_count": 3,
   "metadata": {},
   "outputs": [],
   "source": [
    "def fuzzySearchName(name, refNames=df_refNames, score_threshold = 85):\n",
    "    '''\n",
    "        Given a country name, returns the closest match from refNames using fuzzy search.\n",
    "        If no close match is found, it returns \"PLEASE FILL MANUALLY\".\n",
    "    '''\n",
    "    \n",
    "    # If the name is empty or null, return \"UNKNOWN\"\n",
    "    if pd.isna(name) or not name.strip():\n",
    "        return \"UNKNOWN\"\n",
    "\n",
    "    exceptions = {\n",
    "        \"Kyrgyzstan\": \"Kyrgyz Republic\",\n",
    "        \"Congo\": \"Republic of Congo\",\n",
    "        \"Czechia\": \"Czech Republic\",\n",
    "        \"Slovakia\": \"Slovak Republic\",\n",
    "        \"Macao\": \"Macau\",\n",
    "        'Democratic Republic Of The Congo': 'Democratic Republic of Congo',\n",
    "        'Republic Of The Congo': 'Republic of Congo'\n",
    "    }\n",
    "    \n",
    "    if name in exceptions:\n",
    "        return exceptions[name]\n",
    "    \n",
    "    match, score, _ = process.extractOne(name, refNames['Standard Names'])\n",
    "    \n",
    "    # Hardcoding exceptions, due to sharing common words (South, North)\n",
    "    dubiousFuzzyNames = [\n",
    "        'North Korea', 'South Korea', 'South Africa',\n",
    "        'North Macedonia', 'Saint Vincent and the Grenadines'\n",
    "    ]\n",
    "\n",
    "    if match in dubiousFuzzyNames:\n",
    "        score_threshold = max(95, score_threshold)\n",
    "        \n",
    "\n",
    "    # If a close match is found, return the match\n",
    "    if score > score_threshold:\n",
    "        return match\n",
    "    \n",
    "    # If no close match is found, ask for manual input\n",
    "    return \"PLEASE FILL MANUALLY\""
   ]
  },
  {
   "cell_type": "code",
   "execution_count": 4,
   "metadata": {},
   "outputs": [],
   "source": [
    "url = 'https://weatherandclimate.com/countries'\n",
    "\n",
    "response = requests.get(url)\n",
    "\n",
    "# Check if the request was successful\n",
    "if response.status_code == 200:\n",
    "    soup = BeautifulSoup(response.content, 'html.parser')\n",
    "else:\n",
    "    print(f\"Failed to retrieve the webpage. Status code: {response.status_code}\")\n",
    "\n",
    "\n",
    "tableRows = soup.find('table').findAll('tr')\n",
    "\n",
    "list_countries = []\n",
    "list_climateType = []\n",
    "list_avg_temp = []\n",
    "\n",
    "for row in tableRows[1:]:\n",
    "    countryName = row.find('a').text\n",
    "    climateType = str(row.findAll('td')[1].text)[0:2]\n",
    "    \n",
    "    swapDict = {\n",
    "        'AS': 'AW',\n",
    "        'DS': 'DF',\n",
    "        'DW': 'DF',\n",
    "        'EF': 'DF',\n",
    "        'ET': 'DF',\n",
    "        'CS': 'CW'\n",
    "    }\n",
    "\n",
    "    if climateType in swapDict:\n",
    "        climateType = swapDict[climateType]\n",
    "\n",
    "\n",
    "    try:\n",
    "        avg_temp = float(row.findAll('td')[3].text)\n",
    "    except:\n",
    "        avg_temp = 0 # Doesn't matter, we'll exclude this country later\n",
    "\n",
    "    list_countries.append(countryName)\n",
    "    list_climateType.append(climateType)\n",
    "    list_avg_temp.append(avg_temp)"
   ]
  },
  {
   "cell_type": "code",
   "execution_count": 5,
   "metadata": {},
   "outputs": [],
   "source": [
    "df_climateType = pd.DataFrame({\n",
    "    'Country Name': list_countries,\n",
    "    'Climate Type': list_climateType,\n",
    "    'Average Temperature (C)': list_avg_temp\n",
    "})"
   ]
  },
  {
   "cell_type": "code",
   "execution_count": 6,
   "metadata": {},
   "outputs": [
    {
     "data": {
      "text/plain": [
       "'% of included countries in mask: '"
      ]
     },
     "metadata": {},
     "output_type": "display_data"
    },
    {
     "data": {
      "text/plain": [
       "0.943089430894309"
      ]
     },
     "metadata": {},
     "output_type": "display_data"
    }
   ],
   "source": [
    "# Excluding non-relevant countries to our DataSet\n",
    "\n",
    "removeList = [\n",
    "    'British Indian Ocean Territory', 'Africa', 'Europe', 'North America', 'South America', 'Asia', 'Oceania',\n",
    "    'Sint Maarten (Dutch part)', 'Saint Martin (French Part)', 'Antigua and Barbuda',\n",
    "    'Netherlands Antilles', 'Northern Mariana Islands', 'Saint Barthelemy',\n",
    "    'Saint Helena, Ascension and Tristan da Cunha', 'Saint Kitts and Nevis',\n",
    "    'Serbia-Montenegro', \"Turks and Caicos Islands\", 'United States Virgin Islands',\n",
    "    'Wallis and Futuna', 'Yugoslavia', 'Cocos (Keeling) Islands', 'Isle Of Man', 'South Georgia And South Sandwich Islands',\n",
    "    'South Sudan','United States Minor Outlying Islands','Saint Pierre And Miquelon', 'American Samoa',\n",
    "    ]\n",
    "\n",
    "df_climateType['Country Name'] = df_climateType['Country Name'].str.strip().str.title()\n",
    "removeList = [country.title() for country in removeList]\n",
    "\n",
    "mask = ~df_climateType['Country Name'].isin(removeList)\n",
    "df_climateType = df_climateType[mask].copy()\n",
    "\n",
    "\n",
    "display(f'% of included countries in mask: ', mask.mean())"
   ]
  },
  {
   "cell_type": "code",
   "execution_count": 7,
   "metadata": {},
   "outputs": [
    {
     "data": {
      "text/plain": [
       "count      184\n",
       "unique     183\n",
       "top       Mali\n",
       "freq         2\n",
       "Name: New Country Name, dtype: object"
      ]
     },
     "metadata": {},
     "output_type": "display_data"
    }
   ],
   "source": [
    "df_climateType['New Country Name'] = df_climateType['Country Name'].apply(fuzzySearchName)\n",
    "\n",
    "# removing unmatched fuzzySearch names\n",
    "mask = df_climateType['New Country Name'] == 'PLEASE FILL MANUALLY'\n",
    "df_climateType = df_climateType[~mask]\n",
    "\n",
    "# Checking for duplicated countries (top freq should be 1)\n",
    "display(df_climateType['New Country Name'].describe(include=['object']))"
   ]
  },
  {
   "cell_type": "code",
   "execution_count": 8,
   "metadata": {},
   "outputs": [],
   "source": [
    "pd.set_option('display.max_rows', 350)\n",
    "pd.set_option('display.min_rows', 135)\n",
    "pd.set_option('display.max_columns', None)\n",
    "\n",
    "# Fixing col names\n",
    "df_climateType['Country Name'] = df_climateType['New Country Name']\n",
    "df_climateType = df_climateType[list(df_climateType.columns[0:-1])]\n",
    "\n"
   ]
  },
  {
   "cell_type": "code",
   "execution_count": 9,
   "metadata": {},
   "outputs": [
    {
     "data": {
      "text/html": [
       "<div>\n",
       "<style scoped>\n",
       "    .dataframe tbody tr th:only-of-type {\n",
       "        vertical-align: middle;\n",
       "    }\n",
       "\n",
       "    .dataframe tbody tr th {\n",
       "        vertical-align: top;\n",
       "    }\n",
       "\n",
       "    .dataframe thead th {\n",
       "        text-align: right;\n",
       "    }\n",
       "</style>\n",
       "<table border=\"1\" class=\"dataframe\">\n",
       "  <thead>\n",
       "    <tr style=\"text-align: right;\">\n",
       "      <th></th>\n",
       "      <th>Country Name</th>\n",
       "      <th>Climate Type</th>\n",
       "      <th>Average Temperature (C)</th>\n",
       "    </tr>\n",
       "  </thead>\n",
       "  <tbody>\n",
       "    <tr>\n",
       "      <th>0</th>\n",
       "      <td>Afghanistan</td>\n",
       "      <td>DF</td>\n",
       "      <td>15.70</td>\n",
       "    </tr>\n",
       "    <tr>\n",
       "      <th>1</th>\n",
       "      <td>Albania</td>\n",
       "      <td>CW</td>\n",
       "      <td>15.17</td>\n",
       "    </tr>\n",
       "    <tr>\n",
       "      <th>2</th>\n",
       "      <td>Algeria</td>\n",
       "      <td>BW</td>\n",
       "      <td>20.00</td>\n",
       "    </tr>\n",
       "    <tr>\n",
       "      <th>5</th>\n",
       "      <td>Angola</td>\n",
       "      <td>AW</td>\n",
       "      <td>24.37</td>\n",
       "    </tr>\n",
       "    <tr>\n",
       "      <th>8</th>\n",
       "      <td>Argentina</td>\n",
       "      <td>CF</td>\n",
       "      <td>18.24</td>\n",
       "    </tr>\n",
       "  </tbody>\n",
       "</table>\n",
       "</div>"
      ],
      "text/plain": [
       "  Country Name Climate Type  Average Temperature (C)\n",
       "0  Afghanistan           DF                    15.70\n",
       "1      Albania           CW                    15.17\n",
       "2      Algeria           BW                    20.00\n",
       "5       Angola           AW                    24.37\n",
       "8    Argentina           CF                    18.24"
      ]
     },
     "execution_count": 9,
     "metadata": {},
     "output_type": "execute_result"
    }
   ],
   "source": [
    "df_climateType.head()"
   ]
  },
  {
   "cell_type": "code",
   "execution_count": 10,
   "metadata": {},
   "outputs": [
    {
     "data": {
      "text/html": [
       "<div>\n",
       "<style scoped>\n",
       "    .dataframe tbody tr th:only-of-type {\n",
       "        vertical-align: middle;\n",
       "    }\n",
       "\n",
       "    .dataframe tbody tr th {\n",
       "        vertical-align: top;\n",
       "    }\n",
       "\n",
       "    .dataframe thead tr th {\n",
       "        text-align: left;\n",
       "    }\n",
       "\n",
       "    .dataframe thead tr:last-of-type th {\n",
       "        text-align: right;\n",
       "    }\n",
       "</style>\n",
       "<table border=\"1\" class=\"dataframe\">\n",
       "  <thead>\n",
       "    <tr>\n",
       "      <th></th>\n",
       "      <th colspan=\"4\" halign=\"left\">Country Name</th>\n",
       "    </tr>\n",
       "    <tr>\n",
       "      <th></th>\n",
       "      <th>count</th>\n",
       "      <th>unique</th>\n",
       "      <th>top</th>\n",
       "      <th>freq</th>\n",
       "    </tr>\n",
       "    <tr>\n",
       "      <th>Climate Type</th>\n",
       "      <th></th>\n",
       "      <th></th>\n",
       "      <th></th>\n",
       "      <th></th>\n",
       "    </tr>\n",
       "  </thead>\n",
       "  <tbody>\n",
       "    <tr>\n",
       "      <th>AF</th>\n",
       "      <td>22</td>\n",
       "      <td>22</td>\n",
       "      <td>Brunei Darussalam</td>\n",
       "      <td>1</td>\n",
       "    </tr>\n",
       "    <tr>\n",
       "      <th>AM</th>\n",
       "      <td>17</td>\n",
       "      <td>17</td>\n",
       "      <td>Barbados</td>\n",
       "      <td>1</td>\n",
       "    </tr>\n",
       "    <tr>\n",
       "      <th>AW</th>\n",
       "      <td>29</td>\n",
       "      <td>29</td>\n",
       "      <td>Angola</td>\n",
       "      <td>1</td>\n",
       "    </tr>\n",
       "    <tr>\n",
       "      <th>BS</th>\n",
       "      <td>16</td>\n",
       "      <td>16</td>\n",
       "      <td>Azerbaijan</td>\n",
       "      <td>1</td>\n",
       "    </tr>\n",
       "    <tr>\n",
       "      <th>BW</th>\n",
       "      <td>26</td>\n",
       "      <td>25</td>\n",
       "      <td>Mali</td>\n",
       "      <td>2</td>\n",
       "    </tr>\n",
       "    <tr>\n",
       "      <th>CF</th>\n",
       "      <td>29</td>\n",
       "      <td>29</td>\n",
       "      <td>Argentina</td>\n",
       "      <td>1</td>\n",
       "    </tr>\n",
       "    <tr>\n",
       "      <th>CW</th>\n",
       "      <td>20</td>\n",
       "      <td>20</td>\n",
       "      <td>Albania</td>\n",
       "      <td>1</td>\n",
       "    </tr>\n",
       "    <tr>\n",
       "      <th>DF</th>\n",
       "      <td>25</td>\n",
       "      <td>25</td>\n",
       "      <td>Afghanistan</td>\n",
       "      <td>1</td>\n",
       "    </tr>\n",
       "  </tbody>\n",
       "</table>\n",
       "</div>"
      ],
      "text/plain": [
       "             Country Name                               \n",
       "                    count unique                top freq\n",
       "Climate Type                                            \n",
       "AF                     22     22  Brunei Darussalam    1\n",
       "AM                     17     17           Barbados    1\n",
       "AW                     29     29             Angola    1\n",
       "BS                     16     16         Azerbaijan    1\n",
       "BW                     26     25               Mali    2\n",
       "CF                     29     29          Argentina    1\n",
       "CW                     20     20            Albania    1\n",
       "DF                     25     25        Afghanistan    1"
      ]
     },
     "execution_count": 10,
     "metadata": {},
     "output_type": "execute_result"
    }
   ],
   "source": [
    "df_climateType.groupby('Climate Type').describe(include=['object'])"
   ]
  },
  {
   "cell_type": "code",
   "execution_count": 11,
   "metadata": {},
   "outputs": [],
   "source": [
    "df_climateType.to_csv(f'..\\Data_Sets\\processed\\\\addData_climateData.csv', index=False)"
   ]
  }
 ],
 "metadata": {
  "kernelspec": {
   "display_name": "EconStats",
   "language": "python",
   "name": "python3"
  },
  "language_info": {
   "codemirror_mode": {
    "name": "ipython",
    "version": 3
   },
   "file_extension": ".py",
   "mimetype": "text/x-python",
   "name": "python",
   "nbconvert_exporter": "python",
   "pygments_lexer": "ipython3",
   "version": "3.10.13"
  }
 },
 "nbformat": 4,
 "nbformat_minor": 2
}
