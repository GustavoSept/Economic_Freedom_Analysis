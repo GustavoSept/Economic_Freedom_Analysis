{
 "cells": [
  {
   "cell_type": "code",
   "execution_count": 1,
   "metadata": {},
   "outputs": [],
   "source": [
    "import pandas as pd\n",
    "import numpy as np\n",
    "import matplotlib.pyplot as plt\n",
    "from fuzzywuzzy import process\n"
   ]
  },
  {
   "cell_type": "code",
   "execution_count": 2,
   "metadata": {},
   "outputs": [],
   "source": [
    "df_original = pd.read_csv(\"..\\Data_Sets\\originalData\\\\natural-disasters.csv\") \n",
    "\n",
    "# I'll use a processed Data Set from an earlier notebook as the stardard for Country Names\n",
    "df = pd.read_csv(\"..\\Data_Sets\\processed\\economicData_1960-2022_noNaN-drops.csv\")\n",
    "df_refNames = pd.DataFrame({\n",
    "    'Standard Names': df['Country Name'].unique()\n",
    "})\n",
    "\n",
    "df_region = pd.read_csv(\"..\\\\Data_Sets\\\\processed\\\\addData_countriesSize_Regions.csv\")"
   ]
  },
  {
   "cell_type": "code",
   "execution_count": 3,
   "metadata": {},
   "outputs": [
    {
     "name": "stderr",
     "output_type": "stream",
     "text": [
      "C:\\Users\\gusta\\AppData\\Local\\Temp\\ipykernel_22156\\292664086.py:4: SettingWithCopyWarning: \n",
      "A value is trying to be set on a copy of a slice from a DataFrame\n",
      "\n",
      "See the caveats in the documentation: https://pandas.pydata.org/pandas-docs/stable/user_guide/indexing.html#returning-a-view-versus-a-copy\n",
      "  df_disasters.rename(columns={\n"
     ]
    }
   ],
   "source": [
    "# Selecting and renaming relevant columns\n",
    "df_disasters = df_original[['Entity', 'Year', 'Death rates from disasters']]\n",
    "\n",
    "df_disasters.rename(columns={\n",
    "    'Entity': 'Country Name',\n",
    "    'Year': 'Index Year (Decade)'\n",
    "}, inplace=True)\n"
   ]
  },
  {
   "cell_type": "code",
   "execution_count": 4,
   "metadata": {},
   "outputs": [],
   "source": [
    "# Selecting relevant years\n",
    "df_disasters = df_disasters[df_disasters['Index Year (Decade)'] >= 1990]\n",
    "df_disasters.loc[df_disasters['Index Year (Decade)'] == 1990, 'Death rates from disasters'] /= 2 # Slicing the 90s in half, because our Data in other DataSets starts from 1995."
   ]
  },
  {
   "cell_type": "code",
   "execution_count": 5,
   "metadata": {},
   "outputs": [],
   "source": [
    "def fuzzySearchName(name, refNames=df_refNames, score_threshold = 85):\n",
    "    '''\n",
    "        Given a country name, returns the closest match from refNames using fuzzy search.\n",
    "        If no close match is found, it returns \"PLEASE FILL MANUALLY\".\n",
    "    '''\n",
    "    \n",
    "    # If the name is empty or null, return \"UNKNOWN\"\n",
    "    if pd.isna(name) or not name.strip():\n",
    "        return \"UNKNOWN\"\n",
    "\n",
    "    exceptions = {\n",
    "        \"Kyrgyzstan\": \"Kyrgyz Republic\",\n",
    "        \"Congo\": \"Republic of Congo\",\n",
    "        \"Czechia\": \"Czech Republic\",\n",
    "        \"Slovakia\": \"Slovak Republic\",\n",
    "        \"Macao\": \"Macau\",\n",
    "        'Democratic Republic Of The Congo': 'Democratic Republic of Congo',\n",
    "        'Republic Of The Congo': 'Republic of Congo'\n",
    "    }\n",
    "    \n",
    "    if name in exceptions:\n",
    "        return exceptions[name]\n",
    "    \n",
    "    match, score, _ = process.extractOne(name, refNames['Standard Names'])\n",
    "    \n",
    "    # Hardcoding exceptions, due to sharing common words (South, North)\n",
    "    dubiousFuzzyNames = [\n",
    "        'North Korea', 'South Korea', 'South Africa',\n",
    "        'North Macedonia', 'Saint Vincent and the Grenadines'\n",
    "    ]\n",
    "\n",
    "    if match in dubiousFuzzyNames:\n",
    "        score_threshold = max(95, score_threshold)\n",
    "        \n",
    "\n",
    "    # If a close match is found, return the match\n",
    "    if score > score_threshold:\n",
    "        return match\n",
    "    \n",
    "    # If no close match is found, ask for manual input\n",
    "    return \"PLEASE FILL MANUALLY\""
   ]
  },
  {
   "cell_type": "code",
   "execution_count": 6,
   "metadata": {},
   "outputs": [],
   "source": [
    "#Selecting relevant countries\n",
    "removeList = [\n",
    "    'British Indian Ocean Territory', 'Africa', 'Europe', 'North America', 'South America', 'Asia', 'Oceania',\n",
    "    'Sint Maarten (Dutch part)', 'Saint Martin (French Part)', 'Antigua and Barbuda',\n",
    "    'Netherlands Antilles', 'Northern Mariana Islands', 'Saint Barthelemy',\n",
    "    'Saint Helena, Ascension and Tristan da Cunha', 'Saint Kitts and Nevis',\n",
    "    'Serbia-Montenegro', \"Turks and Caicos Islands\", 'United States Virgin Islands',\n",
    "    'Wallis and Futuna', 'Yugoslavia', 'Cocos (Keeling) Islands', 'Isle Of Man', 'South Georgia And South Sandwich Islands',\n",
    "    'South Sudan','United States Minor Outlying Islands','Saint Pierre And Miquelon', 'American Samoa',\n",
    "    ]\n",
    "\n",
    "mask = ~df_disasters['Country Name'].isin(removeList)\n",
    "df_disasters = df_disasters[mask]\n",
    "\n",
    "df_disasters['New Country Name'] = df_disasters['Country Name'].apply(fuzzySearchName)"
   ]
  },
  {
   "cell_type": "code",
   "execution_count": 7,
   "metadata": {},
   "outputs": [
    {
     "data": {
      "text/plain": [
       "count             519\n",
       "unique            178\n",
       "top       Afghanistan\n",
       "freq                3\n",
       "Name: New Country Name, dtype: object"
      ]
     },
     "metadata": {},
     "output_type": "display_data"
    }
   ],
   "source": [
    "# Excluding \"PLEASE FILL MANUALLY\"\n",
    "df_disasters = df_disasters[~df_disasters['New Country Name'].isin([\"PLEASE FILL MANUALLY\"])]\n",
    "\n",
    "# Checking for duplicated countries (top freq should be 3)\n",
    "display(df_disasters['New Country Name'].describe(include=['object']))"
   ]
  },
  {
   "cell_type": "code",
   "execution_count": 8,
   "metadata": {},
   "outputs": [
    {
     "data": {
      "text/plain": [
       "178"
      ]
     },
     "execution_count": 8,
     "metadata": {},
     "output_type": "execute_result"
    }
   ],
   "source": [
    "df_disasters['New Country Name'].nunique()"
   ]
  },
  {
   "cell_type": "code",
   "execution_count": 9,
   "metadata": {},
   "outputs": [],
   "source": [
    "\n",
    "\n",
    "# renaming and excluding Country Name\n",
    "df_disasters = df_disasters[['New Country Name', 'Index Year (Decade)', 'Death rates from disasters']]\n",
    "\n",
    "df_disasters.rename(columns={\n",
    "    'New Country Name': 'Country Name'\n",
    "}, inplace=True)"
   ]
  },
  {
   "cell_type": "code",
   "execution_count": 10,
   "metadata": {},
   "outputs": [],
   "source": [
    "# Filling missingCountries with the average of subRegion\n",
    "set_A = set(df_disasters['Country Name'].unique())\n",
    "set_B = set(df_refNames['Standard Names'].unique())\n",
    "\n",
    "missingCountries = set_B - set_A\n",
    "\n",
    "# Getting subregion information \n",
    "df_disasters = df_disasters.merge(df_region, on='Country Name', how='left')\n",
    "mean_disasters = df_disasters.groupby(['SubRegion', 'Index Year (Decade)'])['Death rates from disasters'].mean().reset_index()\n",
    "\n",
    "# Storing temp data\n",
    "countries = []\n",
    "years = []\n",
    "death_rates = []\n",
    "subregions = []\n",
    "\n",
    "for country in missingCountries:\n",
    "    subregion = df_region[df_region['Country Name'] == country]['SubRegion'].values[0]\n",
    "    \n",
    "    for year in [1990, 2000, 2010]:\n",
    "        death_rate = mean_disasters[(mean_disasters['SubRegion'] == subregion)\n",
    "                                    & (mean_disasters['Index Year (Decade)'] == year)]['Death rates from disasters'].values[0]\n",
    "        \n",
    "        # Append data to the lists\n",
    "        countries.append(country)\n",
    "        years.append(year)\n",
    "        death_rates.append(death_rate)\n",
    "        subregions.append(subregion)\n",
    "\n",
    "\n",
    "# Concatenate with the original df_disasters\n",
    "missing_df = pd.DataFrame({\n",
    "    'Country Name': countries,\n",
    "    'Index Year (Decade)': years,\n",
    "    'Death rates from disasters': death_rates,\n",
    "    'SubRegion': subregions\n",
    "})\n",
    "df_disasters = pd.concat([df_disasters, missing_df], ignore_index=True)\n"
   ]
  },
  {
   "cell_type": "code",
   "execution_count": 11,
   "metadata": {},
   "outputs": [
    {
     "data": {
      "text/html": [
       "<div>\n",
       "<style scoped>\n",
       "    .dataframe tbody tr th:only-of-type {\n",
       "        vertical-align: middle;\n",
       "    }\n",
       "\n",
       "    .dataframe tbody tr th {\n",
       "        vertical-align: top;\n",
       "    }\n",
       "\n",
       "    .dataframe thead th {\n",
       "        text-align: right;\n",
       "    }\n",
       "</style>\n",
       "<table border=\"1\" class=\"dataframe\">\n",
       "  <thead>\n",
       "    <tr style=\"text-align: right;\">\n",
       "      <th></th>\n",
       "      <th>Country Name</th>\n",
       "      <th>Index Year (Decade)</th>\n",
       "      <th>Death rates from disasters</th>\n",
       "    </tr>\n",
       "  </thead>\n",
       "  <tbody>\n",
       "    <tr>\n",
       "      <th>0</th>\n",
       "      <td>Afghanistan</td>\n",
       "      <td>1990</td>\n",
       "      <td>2.915111</td>\n",
       "    </tr>\n",
       "    <tr>\n",
       "      <th>1</th>\n",
       "      <td>Afghanistan</td>\n",
       "      <td>2000</td>\n",
       "      <td>1.796376</td>\n",
       "    </tr>\n",
       "    <tr>\n",
       "      <th>2</th>\n",
       "      <td>Afghanistan</td>\n",
       "      <td>2010</td>\n",
       "      <td>0.793282</td>\n",
       "    </tr>\n",
       "    <tr>\n",
       "      <th>3</th>\n",
       "      <td>Albania</td>\n",
       "      <td>1990</td>\n",
       "      <td>0.023369</td>\n",
       "    </tr>\n",
       "    <tr>\n",
       "      <th>4</th>\n",
       "      <td>Albania</td>\n",
       "      <td>2000</td>\n",
       "      <td>0.048252</td>\n",
       "    </tr>\n",
       "  </tbody>\n",
       "</table>\n",
       "</div>"
      ],
      "text/plain": [
       "  Country Name  Index Year (Decade)  Death rates from disasters\n",
       "0  Afghanistan                 1990                    2.915111\n",
       "1  Afghanistan                 2000                    1.796376\n",
       "2  Afghanistan                 2010                    0.793282\n",
       "3      Albania                 1990                    0.023369\n",
       "4      Albania                 2000                    0.048252"
      ]
     },
     "execution_count": 11,
     "metadata": {},
     "output_type": "execute_result"
    }
   ],
   "source": [
    "# Selecting only the columns we actually need to export \n",
    "df_disasters = df_disasters[['Country Name', 'Index Year (Decade)', 'Death rates from disasters']]\n",
    "df_disasters.head()"
   ]
  },
  {
   "cell_type": "code",
   "execution_count": 13,
   "metadata": {},
   "outputs": [],
   "source": [
    "df_disasters.to_csv(f'..\\Data_Sets\\processed\\\\addData_disasterData.csv', index=False)"
   ]
  },
  {
   "cell_type": "code",
   "execution_count": null,
   "metadata": {},
   "outputs": [],
   "source": []
  }
 ],
 "metadata": {
  "kernelspec": {
   "display_name": "EconStats",
   "language": "python",
   "name": "python3"
  },
  "language_info": {
   "codemirror_mode": {
    "name": "ipython",
    "version": 3
   },
   "file_extension": ".py",
   "mimetype": "text/x-python",
   "name": "python",
   "nbconvert_exporter": "python",
   "pygments_lexer": "ipython3",
   "version": "3.10.13"
  }
 },
 "nbformat": 4,
 "nbformat_minor": 2
}
