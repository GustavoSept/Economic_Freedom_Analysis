{
 "cells": [
  {
   "cell_type": "code",
   "execution_count": 1,
   "metadata": {},
   "outputs": [],
   "source": [
    "import pandas as pd\n",
    "import numpy as np\n",
    "import matplotlib.pyplot as plt\n",
    "\n",
    "from sklearn.linear_model import LinearRegression\n",
    "from sklearn.model_selection import train_test_split\n",
    "from sklearn.metrics import mean_squared_error, r2_score\n",
    "\n",
    "from sklearn.pipeline import Pipeline\n",
    "from sklearn.preprocessing import PolynomialFeatures\n",
    "from sklearn.linear_model import Ridge\n",
    "from sklearn.model_selection import GridSearchCV\n",
    "\n",
    "from sklearn.neighbors import KNeighborsRegressor"
   ]
  },
  {
   "cell_type": "code",
   "execution_count": 2,
   "metadata": {},
   "outputs": [],
   "source": [
    "df_master = pd.read_csv(\"..\\\\Data_Sets\\\\processed\\\\completeData_1995-2022.csv\")"
   ]
  },
  {
   "cell_type": "code",
   "execution_count": 3,
   "metadata": {},
   "outputs": [],
   "source": [
    "# Converting boolean columns to integer\n",
    "df_master = df_master.astype({col: 'int' for col in df_master.select_dtypes(['bool']).columns})\n",
    "\n",
    "# predictors dataFrame\n",
    "df_predictors = df_master.iloc[:,2:]\n",
    "df_predictors = df_predictors.drop('GDP per capita (current USD)', axis=1)"
   ]
  },
  {
   "cell_type": "markdown",
   "metadata": {},
   "source": [
    "# Dealing with Multicollinearity"
   ]
  },
  {
   "cell_type": "code",
   "execution_count": 4,
   "metadata": {},
   "outputs": [
    {
     "data": {
      "text/html": [
       "<div>\n",
       "<style scoped>\n",
       "    .dataframe tbody tr th:only-of-type {\n",
       "        vertical-align: middle;\n",
       "    }\n",
       "\n",
       "    .dataframe tbody tr th {\n",
       "        vertical-align: top;\n",
       "    }\n",
       "\n",
       "    .dataframe thead th {\n",
       "        text-align: right;\n",
       "    }\n",
       "</style>\n",
       "<table border=\"1\" class=\"dataframe\">\n",
       "  <thead>\n",
       "    <tr style=\"text-align: right;\">\n",
       "      <th></th>\n",
       "      <th>Feature Pair</th>\n",
       "      <th>Correlation Coefficient</th>\n",
       "    </tr>\n",
       "  </thead>\n",
       "  <tbody>\n",
       "    <tr>\n",
       "      <th>0</th>\n",
       "      <td>(Government Integrity, Property Rights)</td>\n",
       "      <td>0.848972</td>\n",
       "    </tr>\n",
       "    <tr>\n",
       "      <th>1</th>\n",
       "      <td>(Judicial Effectiveness, Property Rights)</td>\n",
       "      <td>0.713712</td>\n",
       "    </tr>\n",
       "    <tr>\n",
       "      <th>2</th>\n",
       "      <td>(Business Freedom, Property Rights)</td>\n",
       "      <td>0.728501</td>\n",
       "    </tr>\n",
       "    <tr>\n",
       "      <th>3</th>\n",
       "      <td>(Financial Freedom, Investment Freedom)</td>\n",
       "      <td>0.747306</td>\n",
       "    </tr>\n",
       "    <tr>\n",
       "      <th>4</th>\n",
       "      <td>(Human Development Index, Under-5 mortality ra...</td>\n",
       "      <td>-0.864344</td>\n",
       "    </tr>\n",
       "    <tr>\n",
       "      <th>5</th>\n",
       "      <td>(isLandLocked, n_accessToSea)</td>\n",
       "      <td>-0.902937</td>\n",
       "    </tr>\n",
       "    <tr>\n",
       "      <th>6</th>\n",
       "      <td>(Amount of Ports, Expanded EconZone Area)</td>\n",
       "      <td>0.710652</td>\n",
       "    </tr>\n",
       "    <tr>\n",
       "      <th>7</th>\n",
       "      <td>(Amount of Ports, H index (Academic Papers))</td>\n",
       "      <td>0.794973</td>\n",
       "    </tr>\n",
       "    <tr>\n",
       "      <th>8</th>\n",
       "      <td>(Amount of Ports, Migration Volume)</td>\n",
       "      <td>0.764736</td>\n",
       "    </tr>\n",
       "    <tr>\n",
       "      <th>9</th>\n",
       "      <td>(Average Temperature (C), Distance from Equator)</td>\n",
       "      <td>-0.857508</td>\n",
       "    </tr>\n",
       "    <tr>\n",
       "      <th>10</th>\n",
       "      <td>(Harmonized Test Scores, Human Development Index)</td>\n",
       "      <td>0.749615</td>\n",
       "    </tr>\n",
       "  </tbody>\n",
       "</table>\n",
       "</div>"
      ],
      "text/plain": [
       "                                         Feature Pair  Correlation Coefficient\n",
       "0             (Government Integrity, Property Rights)                 0.848972\n",
       "1           (Judicial Effectiveness, Property Rights)                 0.713712\n",
       "2                 (Business Freedom, Property Rights)                 0.728501\n",
       "3             (Financial Freedom, Investment Freedom)                 0.747306\n",
       "4   (Human Development Index, Under-5 mortality ra...                -0.864344\n",
       "5                       (isLandLocked, n_accessToSea)                -0.902937\n",
       "6           (Amount of Ports, Expanded EconZone Area)                 0.710652\n",
       "7        (Amount of Ports, H index (Academic Papers))                 0.794973\n",
       "8                 (Amount of Ports, Migration Volume)                 0.764736\n",
       "9    (Average Temperature (C), Distance from Equator)                -0.857508\n",
       "10  (Harmonized Test Scores, Human Development Index)                 0.749615"
      ]
     },
     "execution_count": 4,
     "metadata": {},
     "output_type": "execute_result"
    }
   ],
   "source": [
    "# Computing correlation matrix\n",
    "correlation_matrix = df_predictors.corr()\n",
    "\n",
    "# Identifying pairs of features with high correlation coefficients (greater than 0.7 in absolute value)\n",
    "highly_correlated_pairs = {}\n",
    "for col in correlation_matrix.columns:\n",
    "    for idx in correlation_matrix.index:\n",
    "        if idx == col:\n",
    "            continue\n",
    "        if abs(correlation_matrix.loc[idx, col]) > 0.7:\n",
    "            pair = tuple(sorted([idx, col]))\n",
    "            if pair not in highly_correlated_pairs:\n",
    "                highly_correlated_pairs[pair] = correlation_matrix.loc[idx, col]\n",
    "\n",
    "# Convert the dictionary to a DataFrame for better display\n",
    "df_highlyCorrelated = pd.DataFrame(list(highly_correlated_pairs.items()), columns=[\"Feature Pair\", \"Correlation Coefficient\"])\n",
    "\n",
    "df_highlyCorrelated"
   ]
  },
  {
   "cell_type": "markdown",
   "metadata": {},
   "source": [
    "Based on the results above, we'll delete Average Temperature (C), isLandLocked, Under-5 mortality rate (per 1k live births) as they all have more than 0.85 absolute correlation.\n",
    "\n",
    "There are other high-correlation pairs [like (Government Integrity, Property Rights) and (Amount of Ports, H index (Academic Papers))]. The first one we'll keep as we're trying to predict GDP using mainly Economic Freedom. The later (and others like it) we'll keep as they are from unrelated subjects."
   ]
  },
  {
   "cell_type": "code",
   "execution_count": 5,
   "metadata": {},
   "outputs": [],
   "source": [
    "df_master = df_master.drop(['Average Temperature (C)', 'isLandLocked', 'Under-5 mortality rate (per 1k live births)'], axis=1)"
   ]
  },
  {
   "cell_type": "markdown",
   "metadata": {},
   "source": [
    "# Regression Model:"
   ]
  },
  {
   "cell_type": "code",
   "execution_count": 6,
   "metadata": {},
   "outputs": [],
   "source": [
    "# Creating dummy variables for each country to account for fixed effects\n",
    "data_dummies = pd.get_dummies(df_master, columns=[\"Country Name\"], drop_first=True)\n",
    "\n",
    "X = data_dummies.drop(columns=[\"Index Year\", \"GDP per capita (current USD)\"])\n",
    "y = data_dummies[\"GDP per capita (current USD)\"]\n",
    "\n",
    "X_train, X_test, y_train, y_test = train_test_split(X, y, test_size=0.2, random_state=42)"
   ]
  },
  {
   "cell_type": "markdown",
   "metadata": {},
   "source": [
    "### Linear Regression"
   ]
  },
  {
   "cell_type": "code",
   "execution_count": 7,
   "metadata": {},
   "outputs": [
    {
     "data": {
      "text/plain": [
       "18008235.078458503"
      ]
     },
     "execution_count": 7,
     "metadata": {},
     "output_type": "execute_result"
    }
   ],
   "source": [
    "lr = LinearRegression()\n",
    "lr.fit(X_train, y_train)\n",
    "\n",
    "yHat = lr.predict(X_test)\n",
    "\n",
    "mse = mean_squared_error(y_test, yHat)\n",
    "r2 = r2_score(y_test, yHat)\n",
    "\n",
    "mse, r2"
   ]
  },
  {
   "cell_type": "markdown",
   "metadata": {},
   "source": [
    "### Polynomial Regression + Ridge\n",
    "Using dummies for countries with polynomial is impractical in my system (as it adds 183 columns to the dataset)."
   ]
  },
  {
   "cell_type": "code",
   "execution_count": 8,
   "metadata": {},
   "outputs": [],
   "source": [
    "# Creating dummy variables for each country to account for fixed effects\n",
    "data_dummies = df_master.drop(columns=['Country Name'], axis=1)\n",
    "\n",
    "X = data_dummies.drop(columns=[\"Index Year\", \"GDP per capita (current USD)\"])\n",
    "y = data_dummies[\"GDP per capita (current USD)\"]\n",
    "\n",
    "X_train, X_test, y_train, y_test = train_test_split(X, y, test_size=0.2, random_state=42)"
   ]
  },
  {
   "cell_type": "code",
   "execution_count": 9,
   "metadata": {},
   "outputs": [
    {
     "name": "stderr",
     "output_type": "stream",
     "text": [
      "C:\\Users\\gusta\\AppData\\Roaming\\Python\\Python310\\site-packages\\sklearn\\linear_model\\_ridge.py:211: LinAlgWarning: Ill-conditioned matrix (rcond=2.46972e-27): result may not be accurate.\n",
      "  return linalg.solve(A, Xy, assume_a=\"pos\", overwrite_a=True).T\n"
     ]
    },
    {
     "data": {
      "text/plain": [
       "({'poly__degree': 1, 'ridge__alpha': 10}, 49705347.45294566)"
      ]
     },
     "execution_count": 9,
     "metadata": {},
     "output_type": "execute_result"
    }
   ],
   "source": [
    "# Building a pipeline\n",
    "steps = [\n",
    "    ('poly', PolynomialFeatures())\n",
    "    # [I've tested ridge regularization. But it doesn't seem necessary in this dataset.]\n",
    "]\n",
    "pipeline = Pipeline(steps)\n",
    "\n",
    "param_grid = {\n",
    "    'poly__degree': [1, 2, 3]\n",
    "}\n",
    "\n",
    "# Initialize GridSearchCV with the pipeline and the hyperparameter grid\n",
    "grid = GridSearchCV(pipeline, param_grid, cv=5, scoring='neg_mean_squared_error', n_jobs=-1)\n",
    "\n",
    "# Fit the GridSearchCV to the training data\n",
    "grid.fit(X_train, y_train)\n",
    "\n",
    "# Get the best parameters and the corresponding mean squared error\n",
    "best_params = grid.best_params_\n",
    "best_mse = -grid.best_score_\n",
    "\n",
    "best_params, best_mse\n"
   ]
  },
  {
   "cell_type": "markdown",
   "metadata": {},
   "source": [
    "Let's check each of the parameters\n",
    "\n",
    "Training Data"
   ]
  },
  {
   "cell_type": "code",
   "execution_count": 10,
   "metadata": {},
   "outputs": [
    {
     "data": {
      "text/html": [
       "<div>\n",
       "<style scoped>\n",
       "    .dataframe tbody tr th:only-of-type {\n",
       "        vertical-align: middle;\n",
       "    }\n",
       "\n",
       "    .dataframe tbody tr th {\n",
       "        vertical-align: top;\n",
       "    }\n",
       "\n",
       "    .dataframe thead th {\n",
       "        text-align: right;\n",
       "    }\n",
       "</style>\n",
       "<table border=\"1\" class=\"dataframe\">\n",
       "  <thead>\n",
       "    <tr style=\"text-align: right;\">\n",
       "      <th>param_ridge__alpha</th>\n",
       "      <th>1</th>\n",
       "      <th>10</th>\n",
       "      <th>20</th>\n",
       "      <th>30</th>\n",
       "      <th>50</th>\n",
       "    </tr>\n",
       "    <tr>\n",
       "      <th>param_poly__degree</th>\n",
       "      <th></th>\n",
       "      <th></th>\n",
       "      <th></th>\n",
       "      <th></th>\n",
       "      <th></th>\n",
       "    </tr>\n",
       "  </thead>\n",
       "  <tbody>\n",
       "    <tr>\n",
       "      <th>1</th>\n",
       "      <td>4.971738e+07</td>\n",
       "      <td>4.970535e+07</td>\n",
       "      <td>4.972225e+07</td>\n",
       "      <td>4.975454e+07</td>\n",
       "      <td>4.984600e+07</td>\n",
       "    </tr>\n",
       "    <tr>\n",
       "      <th>2</th>\n",
       "      <td>6.574939e+07</td>\n",
       "      <td>6.574939e+07</td>\n",
       "      <td>6.574939e+07</td>\n",
       "      <td>6.574939e+07</td>\n",
       "      <td>6.574939e+07</td>\n",
       "    </tr>\n",
       "    <tr>\n",
       "      <th>3</th>\n",
       "      <td>2.766868e+08</td>\n",
       "      <td>2.766868e+08</td>\n",
       "      <td>2.766868e+08</td>\n",
       "      <td>2.766868e+08</td>\n",
       "      <td>2.766868e+08</td>\n",
       "    </tr>\n",
       "  </tbody>\n",
       "</table>\n",
       "</div>"
      ],
      "text/plain": [
       "param_ridge__alpha            1             10            20            30  \\\n",
       "param_poly__degree                                                           \n",
       "1                   4.971738e+07  4.970535e+07  4.972225e+07  4.975454e+07   \n",
       "2                   6.574939e+07  6.574939e+07  6.574939e+07  6.574939e+07   \n",
       "3                   2.766868e+08  2.766868e+08  2.766868e+08  2.766868e+08   \n",
       "\n",
       "param_ridge__alpha            50  \n",
       "param_poly__degree                \n",
       "1                   4.984600e+07  \n",
       "2                   6.574939e+07  \n",
       "3                   2.766868e+08  "
      ]
     },
     "execution_count": 10,
     "metadata": {},
     "output_type": "execute_result"
    }
   ],
   "source": [
    "results_df = pd.DataFrame(grid.cv_results_)\n",
    "\n",
    "# Extracting only the columns we need (params and mean_test_score)\n",
    "results_df = results_df[['param_poly__degree', 'param_ridge__alpha', 'mean_test_score']]\n",
    "\n",
    "# Pivot the DataFrame to create a matrix-like format\n",
    "mse_matrix = results_df.pivot(index='param_poly__degree', columns='param_ridge__alpha', values='mean_test_score')\n",
    "\n",
    "# Converting negative MSE to positive for visualization\n",
    "mse_matrix = -mse_matrix\n",
    "\n",
    "mse_matrix\n"
   ]
  },
  {
   "cell_type": "markdown",
   "metadata": {},
   "source": [
    "Testing Data"
   ]
  },
  {
   "cell_type": "code",
   "execution_count": 11,
   "metadata": {},
   "outputs": [
    {
     "name": "stderr",
     "output_type": "stream",
     "text": [
      "C:\\Users\\gusta\\AppData\\Roaming\\Python\\Python310\\site-packages\\sklearn\\linear_model\\_ridge.py:211: LinAlgWarning: Ill-conditioned matrix (rcond=2.54368e-28): result may not be accurate.\n",
      "  return linalg.solve(A, Xy, assume_a=\"pos\", overwrite_a=True).T\n",
      "C:\\Users\\gusta\\AppData\\Roaming\\Python\\Python310\\site-packages\\sklearn\\linear_model\\_ridge.py:211: LinAlgWarning: Ill-conditioned matrix (rcond=2.46972e-27): result may not be accurate.\n",
      "  return linalg.solve(A, Xy, assume_a=\"pos\", overwrite_a=True).T\n",
      "C:\\Users\\gusta\\AppData\\Roaming\\Python\\Python310\\site-packages\\sklearn\\linear_model\\_ridge.py:211: LinAlgWarning: Ill-conditioned matrix (rcond=4.81223e-27): result may not be accurate.\n",
      "  return linalg.solve(A, Xy, assume_a=\"pos\", overwrite_a=True).T\n",
      "C:\\Users\\gusta\\AppData\\Roaming\\Python\\Python310\\site-packages\\sklearn\\linear_model\\_ridge.py:211: LinAlgWarning: Ill-conditioned matrix (rcond=7.06769e-27): result may not be accurate.\n",
      "  return linalg.solve(A, Xy, assume_a=\"pos\", overwrite_a=True).T\n",
      "C:\\Users\\gusta\\AppData\\Roaming\\Python\\Python310\\site-packages\\sklearn\\linear_model\\_ridge.py:211: LinAlgWarning: Ill-conditioned matrix (rcond=1.14117e-26): result may not be accurate.\n",
      "  return linalg.solve(A, Xy, assume_a=\"pos\", overwrite_a=True).T\n",
      "C:\\Users\\gusta\\AppData\\Roaming\\Python\\Python310\\site-packages\\sklearn\\linear_model\\_ridge.py:250: UserWarning: Singular matrix in solving dual problem. Using least-squares solution instead.\n",
      "  warnings.warn(\n",
      "C:\\Users\\gusta\\AppData\\Roaming\\Python\\Python310\\site-packages\\sklearn\\linear_model\\_ridge.py:250: UserWarning: Singular matrix in solving dual problem. Using least-squares solution instead.\n",
      "  warnings.warn(\n",
      "C:\\Users\\gusta\\AppData\\Roaming\\Python\\Python310\\site-packages\\sklearn\\linear_model\\_ridge.py:250: UserWarning: Singular matrix in solving dual problem. Using least-squares solution instead.\n",
      "  warnings.warn(\n",
      "C:\\Users\\gusta\\AppData\\Roaming\\Python\\Python310\\site-packages\\sklearn\\linear_model\\_ridge.py:250: UserWarning: Singular matrix in solving dual problem. Using least-squares solution instead.\n",
      "  warnings.warn(\n",
      "C:\\Users\\gusta\\AppData\\Roaming\\Python\\Python310\\site-packages\\sklearn\\linear_model\\_ridge.py:250: UserWarning: Singular matrix in solving dual problem. Using least-squares solution instead.\n",
      "  warnings.warn(\n"
     ]
    },
    {
     "data": {
      "text/html": [
       "<div>\n",
       "<style scoped>\n",
       "    .dataframe tbody tr th:only-of-type {\n",
       "        vertical-align: middle;\n",
       "    }\n",
       "\n",
       "    .dataframe tbody tr th {\n",
       "        vertical-align: top;\n",
       "    }\n",
       "\n",
       "    .dataframe thead th {\n",
       "        text-align: right;\n",
       "    }\n",
       "</style>\n",
       "<table border=\"1\" class=\"dataframe\">\n",
       "  <thead>\n",
       "    <tr style=\"text-align: right;\">\n",
       "      <th>param_ridge__alpha</th>\n",
       "      <th>1</th>\n",
       "      <th>10</th>\n",
       "      <th>20</th>\n",
       "      <th>30</th>\n",
       "      <th>50</th>\n",
       "    </tr>\n",
       "    <tr>\n",
       "      <th>param_poly__degree</th>\n",
       "      <th></th>\n",
       "      <th></th>\n",
       "      <th></th>\n",
       "      <th></th>\n",
       "      <th></th>\n",
       "    </tr>\n",
       "  </thead>\n",
       "  <tbody>\n",
       "    <tr>\n",
       "      <th>1</th>\n",
       "      <td>4.941488e+07</td>\n",
       "      <td>4.945192e+07</td>\n",
       "      <td>4.950426e+07</td>\n",
       "      <td>4.956298e+07</td>\n",
       "      <td>4.969274e+07</td>\n",
       "    </tr>\n",
       "    <tr>\n",
       "      <th>2</th>\n",
       "      <td>4.761663e+07</td>\n",
       "      <td>4.761663e+07</td>\n",
       "      <td>4.761663e+07</td>\n",
       "      <td>4.761663e+07</td>\n",
       "      <td>4.761663e+07</td>\n",
       "    </tr>\n",
       "    <tr>\n",
       "      <th>3</th>\n",
       "      <td>3.049476e+08</td>\n",
       "      <td>3.049476e+08</td>\n",
       "      <td>3.049476e+08</td>\n",
       "      <td>3.049476e+08</td>\n",
       "      <td>3.049476e+08</td>\n",
       "    </tr>\n",
       "  </tbody>\n",
       "</table>\n",
       "</div>"
      ],
      "text/plain": [
       "param_ridge__alpha            1             10            20            30  \\\n",
       "param_poly__degree                                                           \n",
       "1                   4.941488e+07  4.945192e+07  4.950426e+07  4.956298e+07   \n",
       "2                   4.761663e+07  4.761663e+07  4.761663e+07  4.761663e+07   \n",
       "3                   3.049476e+08  3.049476e+08  3.049476e+08  3.049476e+08   \n",
       "\n",
       "param_ridge__alpha            50  \n",
       "param_poly__degree                \n",
       "1                   4.969274e+07  \n",
       "2                   4.761663e+07  \n",
       "3                   3.049476e+08  "
      ]
     },
     "execution_count": 11,
     "metadata": {},
     "output_type": "execute_result"
    }
   ],
   "source": [
    "# New column to store the test MSE for each combination\n",
    "results_df['test_mse'] = 0.0\n",
    "results_df['r2_score'] = 0.0\n",
    "\n",
    "# For each row in the DataFrame, set the pipeline parameters and predict on the test data\n",
    "for index, row in results_df.iterrows():\n",
    "    pipeline.set_params(poly__degree=row['param_poly__degree'], ridge__alpha=row['param_ridge__alpha'])\n",
    "    pipeline.fit(X_train, y_train)\n",
    "    y_pred = pipeline.predict(X_test)\n",
    "    \n",
    "    # MSE\n",
    "    mse_test = mean_squared_error(y_test, y_pred)\n",
    "    results_df.loc[index, 'test_mse'] = mse_test\n",
    "\n",
    "    # R-squared    \n",
    "    r2 = r2_score(y_test, y_pred)\n",
    "    results_df.loc[index, 'r2_score'] = r2\n",
    "\n",
    "# Pivot the DataFrame to get the desired matrix format for test MSE\n",
    "test_mse_matrix = results_df.pivot(index='param_poly__degree', columns='param_ridge__alpha', values='test_mse')\n",
    "test_r2_matrix = results_df.pivot(index='param_poly__degree', columns='param_ridge__alpha', values='r2_score')\n",
    "\n",
    "baseline_r2 = r2_score(y_test, [y_test.mean()] * len(y_test)) # baseline is a simple average result\n",
    "significance_metric = test_r2_matrix - baseline_r2\n",
    "\n",
    "test_mse_matrix, test_r2_matrix, significance_metric"
   ]
  },
  {
   "cell_type": "code",
   "execution_count": 12,
   "metadata": {},
   "outputs": [
    {
     "data": {
      "image/png": "[encoded data removed]",
      "text/plain": [
       "<Figure size 1000x600 with 1 Axes>"
      ]
     },
     "metadata": {},
     "output_type": "display_data"
    }
   ],
   "source": [
    "# Calculating the mean MSE for each param_poly__degree from both matrices\n",
    "train_mse_means = mse_matrix.mean(axis=1)\n",
    "test_mse_means = test_mse_matrix.mean(axis=1)\n",
    "\n",
    "# Plotting the means for both training and test sets\n",
    "plt.figure(figsize=(10, 6))\n",
    "plt.plot(train_mse_means.index, train_mse_means.values, '-o', label='Training Data')\n",
    "plt.plot(test_mse_means.index, test_mse_means.values, '-o', label='Test Data')\n",
    "\n",
    "plt.xlabel('Polynomial Degree')\n",
    "plt.ylabel('Average MSE')\n",
    "plt.title('Average MSE across Ridge Alphas for each Polynomial Degree')\n",
    "plt.legend()\n",
    "plt.grid(True)\n",
    "plt.show()\n"
   ]
  }
 ],
 "metadata": {
  "kernelspec": {
   "display_name": "EconStats",
   "language": "python",
   "name": "python3"
  },
  "language_info": {
   "codemirror_mode": {
    "name": "ipython",
    "version": 3
   },
   "file_extension": ".py",
   "mimetype": "text/x-python",
   "name": "python",
   "nbconvert_exporter": "python",
   "pygments_lexer": "ipython3",
   "version": "3.10.13"
  }
 },
 "nbformat": 4,
 "nbformat_minor": 2
}
