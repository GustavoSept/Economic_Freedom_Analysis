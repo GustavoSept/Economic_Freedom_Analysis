{
 "cells": [
  {
   "cell_type": "code",
   "execution_count": 1,
   "metadata": {},
   "outputs": [],
   "source": [
    "import pandas as pd\n",
    "import numpy as np\n",
    "\n",
    "from fuzzywuzzy import process"
   ]
  },
  {
   "cell_type": "markdown",
   "metadata": {},
   "source": [
    "### Loading Data"
   ]
  },
  {
   "cell_type": "markdown",
   "metadata": {},
   "source": [
    "Loading Original Data"
   ]
  },
  {
   "cell_type": "code",
   "execution_count": 2,
   "metadata": {},
   "outputs": [],
   "source": [
    "# From Scimagojr\n",
    "df_academicRelevance = pd.read_csv(\"..\\\\Data_Sets\\\\originalData\\\\academic_relevance_1996-2022.csv\")\n",
    "\n",
    "# From OurWorldInData\n",
    "df_HDI = pd.read_csv(\"..\\\\Data_Sets\\\\originalData\\\\human-development-index.csv\")\n",
    "df_migrants = pd.read_csv(\"..\\\\Data_Sets\\\\originalData\\\\migrant-stock-total.csv\")\n",
    "df_naturalResources = pd.read_csv(\"..\\\\Data_Sets\\\\originalData\\\\naturalResourcesWealth.csv\")\n",
    "df_educationQuality = pd.read_csv(\"..\\\\Data_Sets\\\\originalData\\\\education_quality_by_outcome.csv\")\n",
    "\n",
    "# From World Bank\n",
    "df_arableLand = pd.read_csv(\"..\\\\Data_Sets\\\\originalData\\\\arableLand.csv\", skiprows=4)\n",
    "df_qualifiedLaborForce = pd.read_csv(\"..\\\\Data_Sets\\\\originalData\\\\Labor_force_with_advanced_education.csv\", skiprows=4)"
   ]
  },
  {
   "cell_type": "markdown",
   "metadata": {},
   "source": [
    "Loading Data processed in other notebooks"
   ]
  },
  {
   "cell_type": "code",
   "execution_count": 3,
   "metadata": {},
   "outputs": [],
   "source": [
    "df_climateData = pd.read_csv(\"..\\\\Data_Sets\\\\processed\\\\addData_climateData.csv\")\n",
    "df_countriesSize_regions = pd.read_csv(\"..\\\\Data_Sets\\\\processed\\\\addData_countriesSize_Regions.csv\")\n",
    "df_fromWiki = pd.read_csv(\"..\\\\Data_Sets\\\\processed\\\\addData_fromWiki.csv\")\n",
    "df_economicFreedom = pd.read_csv(\"..\\\\Data_Sets\\\\processed\\\\economicData_1995-2022.csv\")\n",
    "df_naturalDisasters = pd.read_csv(\"..\\\\Data_Sets\\\\processed\\\\addData_disasterData.csv\")"
   ]
  },
  {
   "cell_type": "markdown",
   "metadata": {},
   "source": [
    "### Merging Data - Part 1 "
   ]
  },
  {
   "cell_type": "code",
   "execution_count": 4,
   "metadata": {},
   "outputs": [],
   "source": [
    "# Selecting only necessary columns from our main DataSet\n",
    "df_master = df_economicFreedom[list(df_economicFreedom)[0:15] +\n",
    "                               ['GDP per capita (current USD)'] +\n",
    "                               list(df_economicFreedom)[19:27] +\n",
    "                               ['Under-5 mortality rate (per 1k live births)']]"
   ]
  },
  {
   "cell_type": "code",
   "execution_count": 5,
   "metadata": {},
   "outputs": [
    {
     "data": {
      "text/plain": [
       "Index(['Country Name', 'Index Year', 'Overall Score', 'Property Rights',\n",
       "       'Government Integrity', 'Judicial Effectiveness', 'Government Spending',\n",
       "       'Tax Burden', 'Fiscal Health', 'Business Freedom', 'Monetary Freedom',\n",
       "       'Labor Freedom', 'Financial Freedom', 'Investment Freedom',\n",
       "       'Trade Freedom', 'GDP per capita (current USD)', 'Total population',\n",
       "       'Land area (sq. km)', 'Gini', 'Inflation CPI', 'Real interest rate',\n",
       "       'Labor force size', 'Trade (% of GDP)', 'Trade in services (% of GDP)',\n",
       "       'Under-5 mortality rate (per 1k live births)'],\n",
       "      dtype='object')"
      ]
     },
     "execution_count": 5,
     "metadata": {},
     "output_type": "execute_result"
    }
   ],
   "source": [
    "df_master.columns"
   ]
  },
  {
   "cell_type": "code",
   "execution_count": 6,
   "metadata": {},
   "outputs": [
    {
     "data": {
      "text/plain": [
       "Index(['Country Name', 'Borders Length (in KM)', 'Neighbouring Countries',\n",
       "       'isLandLocked', 'n_accessToSea', 'Rail Density',\n",
       "       'Pctg of Rail Electrified', 'Warred Against', 'Area Size (km2)',\n",
       "       'Expanded EconZone Area', 'Amount of Ports', 'Distance from Equator',\n",
       "       'Majoritary Religions'],\n",
       "      dtype='object')"
      ]
     },
     "metadata": {},
     "output_type": "display_data"
    }
   ],
   "source": [
    "df_master = df_master.merge(df_fromWiki, how='left', on=['Country Name'])\n",
    "\n",
    "display(df_fromWiki.columns)"
   ]
  },
  {
   "cell_type": "code",
   "execution_count": 7,
   "metadata": {},
   "outputs": [
    {
     "data": {
      "text/plain": [
       "Index(['Country Name', 'Shape_Leng', 'Shape_Area', 'SubRegion', 'Region'], dtype='object')"
      ]
     },
     "metadata": {},
     "output_type": "display_data"
    }
   ],
   "source": [
    "df_master = df_master.merge(df_countriesSize_regions[['Country Name', 'Shape_Leng', 'Region']], how='left', on=['Country Name'])\n",
    "\n",
    "display(df_countriesSize_regions.columns)"
   ]
  },
  {
   "cell_type": "code",
   "execution_count": 8,
   "metadata": {},
   "outputs": [
    {
     "data": {
      "text/plain": [
       "Index(['Country Name', 'Climate Type', 'Average Temperature (C)'], dtype='object')"
      ]
     },
     "metadata": {},
     "output_type": "display_data"
    }
   ],
   "source": [
    "df_master = df_master.merge(df_climateData, how='left', on=['Country Name'])\n",
    "\n",
    "display(df_climateData.columns)"
   ]
  },
  {
   "cell_type": "markdown",
   "metadata": {},
   "source": [
    "We'll need to reshape df_naturalDisasters before merging it"
   ]
  },
  {
   "cell_type": "code",
   "execution_count": 9,
   "metadata": {},
   "outputs": [
    {
     "data": {
      "text/plain": [
       "Index(['Country Name', 'Index Year', 'Death rates from disasters'], dtype='object')"
      ]
     },
     "metadata": {},
     "output_type": "display_data"
    }
   ],
   "source": [
    "df_naturalDisasters.rename(columns={\n",
    "    \"Index Year (Decade)\": 'Index Year'\n",
    "}, inplace=True)\n",
    "\n",
    "# Setting the minimum year in our data [note: 'Death rates from disasters' in 1990 was already halved, to look like half a decade]\n",
    "df_naturalDisasters.loc[df_naturalDisasters['Index Year'] == 1990, ['Index Year']] = 1995\n",
    "\n",
    "# Transforming Decade Data into Yearly data\n",
    "df_naturalDisasters.loc[df_naturalDisasters['Index Year'] == 1995, ['Death rates from disasters']] /= 5\n",
    "df_naturalDisasters.loc[df_naturalDisasters['Index Year'] == 2000, ['Death rates from disasters']] /= 10\n",
    "df_naturalDisasters.loc[df_naturalDisasters['Index Year'] == 2010, ['Death rates from disasters']] /= 10\n",
    "\n",
    "# List of years to add\n",
    "years_to_add = list(range(1996, 2022+1))\n",
    "years_to_add.remove(2000)\n",
    "years_to_add.remove(2010)\n",
    "\n",
    "new_rows = []\n",
    "for year in years_to_add:\n",
    "    for country in df_naturalDisasters['Country Name'].unique():\n",
    "        new_rows.append({\n",
    "            'Country Name': country,\n",
    "            'Index Year': year,\n",
    "            'Death rates from disasters': np.nan\n",
    "            })\n",
    "        \n",
    "# Combining data\n",
    "df_temp = pd.DataFrame(new_rows)\n",
    "df_naturalDisasters = pd.concat([df_naturalDisasters, df_temp], ignore_index=True)\n",
    "\n",
    "# Sorting By year, then by Country\n",
    "df_naturalDisasters = df_naturalDisasters.sort_values(by=['Country Name', 'Index Year']).reset_index(drop=True)\n",
    "\n",
    "# Interpolating 'Death rates from disasters'\n",
    "df_naturalDisasters['Death rates from disasters'] = df_naturalDisasters.groupby('Country Name')['Death rates from disasters'].apply(lambda group: group.ffill(axis=0)).reset_index(drop=True)\n",
    "\n",
    "# Doing the actual merging\n",
    "df_master = df_master.merge(df_naturalDisasters, how='left', on=['Country Name', 'Index Year'])\n",
    "\n",
    "display(df_naturalDisasters.columns)"
   ]
  },
  {
   "cell_type": "markdown",
   "metadata": {},
   "source": [
    "### Cleaning Original DataSets before merging them into df_master"
   ]
  },
  {
   "cell_type": "code",
   "execution_count": null,
   "metadata": {},
   "outputs": [],
   "source": []
  },
  {
   "cell_type": "code",
   "execution_count": null,
   "metadata": {},
   "outputs": [],
   "source": []
  }
 ],
 "metadata": {
  "kernelspec": {
   "display_name": "EconStats",
   "language": "python",
   "name": "python3"
  },
  "language_info": {
   "codemirror_mode": {
    "name": "ipython",
    "version": 3
   },
   "file_extension": ".py",
   "mimetype": "text/x-python",
   "name": "python",
   "nbconvert_exporter": "python",
   "pygments_lexer": "ipython3",
   "version": "3.10.13"
  }
 },
 "nbformat": 4,
 "nbformat_minor": 2
}
