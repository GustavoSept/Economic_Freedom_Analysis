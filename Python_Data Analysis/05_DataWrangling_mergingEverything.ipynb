{
 "cells": [
  {
   "cell_type": "code",
   "execution_count": 1,
   "metadata": {},
   "outputs": [],
   "source": [
    "import pandas as pd\n",
    "\n",
    "from fuzzywuzzy import process"
   ]
  },
  {
   "cell_type": "markdown",
   "metadata": {},
   "source": [
    "Loading Original Data"
   ]
  },
  {
   "cell_type": "code",
   "execution_count": 2,
   "metadata": {},
   "outputs": [],
   "source": [
    "# From Kaggle\n",
    "df_naturalDisasters = pd.read_csv(\"..\\\\Data_Sets\\\\originalData\\\\natural-disasters.csv\")\n",
    "\n",
    "# From Scimagojr\n",
    "df_academicRelevance = pd.read_csv(\"..\\\\Data_Sets\\\\originalData\\\\academic_relevance_1996-2022.csv\")\n",
    "\n",
    "# From OurWorldInData\n",
    "df_HDI = pd.read_csv(\"..\\\\Data_Sets\\\\originalData\\\\human-development-index.csv\")\n",
    "df_migrants = pd.read_csv(\"..\\\\Data_Sets\\\\originalData\\\\migrant-stock-total.csv\")\n",
    "df_naturalResources = pd.read_csv(\"..\\\\Data_Sets\\\\originalData\\\\naturalResourcesWealth.csv\")\n",
    "df_educationQuality = pd.read_csv(\"..\\\\Data_Sets\\\\originalData\\\\education_quality_by_outcome.csv\")\n",
    "\n",
    "# From World Bank\n",
    "df_arableLand = pd.read_csv(\"..\\\\Data_Sets\\\\originalData\\\\arableLand.csv\", skiprows=4)\n",
    "df_qualifiedLaborForce = pd.read_csv(\"..\\\\Data_Sets\\\\originalData\\\\Labor_force_with_advanced_education.csv\", skiprows=4)"
   ]
  },
  {
   "cell_type": "markdown",
   "metadata": {},
   "source": [
    "Loading Data processed in other notebooks"
   ]
  },
  {
   "cell_type": "code",
   "execution_count": 3,
   "metadata": {},
   "outputs": [],
   "source": [
    "df_climateData = pd.read_csv(\"..\\\\Data_Sets\\\\processed\\\\addData_climateData.csv\")\n",
    "df_countriesSize_regions = pd.read_csv(\"..\\\\Data_Sets\\\\processed\\\\addData_countriesSize_Regions.csv\")\n",
    "df_fromWiki = pd.read_csv(\"..\\\\Data_Sets\\\\processed\\\\addData_fromWiki.csv\")\n",
    "df_economicFreedom = pd.read_csv(\"..\\\\Data_Sets\\\\processed\\\\economicData_1995-2022.csv\")"
   ]
  },
  {
   "cell_type": "code",
   "execution_count": 4,
   "metadata": {},
   "outputs": [],
   "source": []
  },
  {
   "cell_type": "code",
   "execution_count": null,
   "metadata": {},
   "outputs": [],
   "source": []
  }
 ],
 "metadata": {
  "kernelspec": {
   "display_name": "EconStats",
   "language": "python",
   "name": "python3"
  },
  "language_info": {
   "codemirror_mode": {
    "name": "ipython",
    "version": 3
   },
   "file_extension": ".py",
   "mimetype": "text/x-python",
   "name": "python",
   "nbconvert_exporter": "python",
   "pygments_lexer": "ipython3",
   "version": "3.10.13"
  }
 },
 "nbformat": 4,
 "nbformat_minor": 2
}
