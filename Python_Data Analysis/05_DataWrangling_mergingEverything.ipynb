{
 "cells": [
  {
   "cell_type": "code",
   "execution_count": 1,
   "metadata": {},
   "outputs": [],
   "source": [
    "import pandas as pd\n",
    "import numpy as np\n",
    "\n",
    "from fuzzywuzzy import process"
   ]
  },
  {
   "cell_type": "markdown",
   "metadata": {},
   "source": [
    "### Loading Data"
   ]
  },
  {
   "cell_type": "markdown",
   "metadata": {},
   "source": [
    "Loading Original Data"
   ]
  },
  {
   "cell_type": "code",
   "execution_count": 2,
   "metadata": {},
   "outputs": [],
   "source": [
    "# From Scimagojr\n",
    "df_academicRelevance = pd.read_csv(\"..\\\\Data_Sets\\\\originalData\\\\academic_relevance_1996-2022.csv\")\n",
    "\n",
    "# From OurWorldInData\n",
    "df_HDI = pd.read_csv(\"..\\\\Data_Sets\\\\originalData\\\\human-development-index.csv\")\n",
    "df_migrants = pd.read_csv(\"..\\\\Data_Sets\\\\originalData\\\\migrant-stock-total.csv\")\n",
    "df_naturalResources = pd.read_csv(\"..\\\\Data_Sets\\\\originalData\\\\naturalResourcesWealth.csv\")\n",
    "df_educationQuality = pd.read_csv(\"..\\\\Data_Sets\\\\originalData\\\\education_quality_by_outcome.csv\")\n",
    "\n",
    "# From World Bank\n",
    "df_arableLand = pd.read_csv(\"..\\\\Data_Sets\\\\originalData\\\\arableLand.csv\", skiprows=4)\n",
    "df_qualifiedLaborForce = pd.read_csv(\"..\\\\Data_Sets\\\\originalData\\\\Labor_force_with_advanced_education.csv\", skiprows=4)"
   ]
  },
  {
   "cell_type": "markdown",
   "metadata": {},
   "source": [
    "Loading Data processed in other notebooks"
   ]
  },
  {
   "cell_type": "code",
   "execution_count": 3,
   "metadata": {},
   "outputs": [],
   "source": [
    "df_climateData = pd.read_csv(\"..\\\\Data_Sets\\\\processed\\\\addData_climateData.csv\")\n",
    "df_countriesSize_regions = pd.read_csv(\"..\\\\Data_Sets\\\\processed\\\\addData_countriesSize_Regions.csv\")\n",
    "df_fromWiki = pd.read_csv(\"..\\\\Data_Sets\\\\processed\\\\addData_fromWiki.csv\")\n",
    "df_economicFreedom = pd.read_csv(\"..\\\\Data_Sets\\\\processed\\\\economicData_1995-2022.csv\")\n",
    "df_naturalDisasters = pd.read_csv(\"..\\\\Data_Sets\\\\processed\\\\addData_disasterData.csv\")"
   ]
  },
  {
   "cell_type": "markdown",
   "metadata": {},
   "source": [
    "### Merging Data - Part 1 "
   ]
  },
  {
   "cell_type": "code",
   "execution_count": 4,
   "metadata": {},
   "outputs": [],
   "source": [
    "# Selecting only necessary columns from our main DataSet\n",
    "df_master = df_economicFreedom[list(df_economicFreedom)[0:15] +\n",
    "                               ['GDP per capita (current USD)'] +\n",
    "                               list(df_economicFreedom)[19:27] +\n",
    "                               ['Under-5 mortality rate (per 1k live births)']]"
   ]
  },
  {
   "cell_type": "code",
   "execution_count": 5,
   "metadata": {},
   "outputs": [
    {
     "data": {
      "text/plain": [
       "Index(['Country Name', 'Index Year', 'Overall Score', 'Property Rights',\n",
       "       'Government Integrity', 'Judicial Effectiveness', 'Government Spending',\n",
       "       'Tax Burden', 'Fiscal Health', 'Business Freedom', 'Monetary Freedom',\n",
       "       'Labor Freedom', 'Financial Freedom', 'Investment Freedom',\n",
       "       'Trade Freedom', 'GDP per capita (current USD)', 'Total population',\n",
       "       'Land area (sq. km)', 'Gini', 'Inflation CPI', 'Real interest rate',\n",
       "       'Labor force size', 'Trade (% of GDP)', 'Trade in services (% of GDP)',\n",
       "       'Under-5 mortality rate (per 1k live births)'],\n",
       "      dtype='object')"
      ]
     },
     "execution_count": 5,
     "metadata": {},
     "output_type": "execute_result"
    }
   ],
   "source": [
    "df_master.columns"
   ]
  },
  {
   "cell_type": "code",
   "execution_count": 6,
   "metadata": {},
   "outputs": [
    {
     "data": {
      "text/plain": [
       "Index(['Country Name', 'Borders Length (in KM)', 'Neighbouring Countries',\n",
       "       'isLandLocked', 'n_accessToSea', 'Rail Density',\n",
       "       'Pctg of Rail Electrified', 'Warred Against', 'Area Size (km2)',\n",
       "       'Expanded EconZone Area', 'Amount of Ports', 'Distance from Equator',\n",
       "       'Majoritary Religions'],\n",
       "      dtype='object')"
      ]
     },
     "metadata": {},
     "output_type": "display_data"
    }
   ],
   "source": [
    "df_master = df_master.merge(df_fromWiki, how='left', on=['Country Name'])\n",
    "\n",
    "display(df_fromWiki.columns)"
   ]
  },
  {
   "cell_type": "code",
   "execution_count": 7,
   "metadata": {},
   "outputs": [
    {
     "data": {
      "text/plain": [
       "Index(['Country Name', 'Shape_Leng', 'Shape_Area', 'SubRegion', 'Region'], dtype='object')"
      ]
     },
     "metadata": {},
     "output_type": "display_data"
    }
   ],
   "source": [
    "df_master = df_master.merge(df_countriesSize_regions[['Country Name', 'Shape_Leng', 'Region']], how='left', on=['Country Name'])\n",
    "\n",
    "display(df_countriesSize_regions.columns)"
   ]
  },
  {
   "cell_type": "code",
   "execution_count": 8,
   "metadata": {},
   "outputs": [
    {
     "data": {
      "text/plain": [
       "Index(['Country Name', 'Climate Type', 'Average Temperature (C)'], dtype='object')"
      ]
     },
     "metadata": {},
     "output_type": "display_data"
    }
   ],
   "source": [
    "df_master = df_master.merge(df_climateData, how='left', on=['Country Name'])\n",
    "\n",
    "display(df_climateData.columns)"
   ]
  },
  {
   "cell_type": "markdown",
   "metadata": {},
   "source": [
    "We'll need to reshape df_naturalDisasters before merging it"
   ]
  },
  {
   "cell_type": "code",
   "execution_count": 9,
   "metadata": {},
   "outputs": [
    {
     "data": {
      "text/plain": [
       "Index(['Country Name', 'Index Year', 'Death rates from disasters'], dtype='object')"
      ]
     },
     "metadata": {},
     "output_type": "display_data"
    }
   ],
   "source": [
    "df_naturalDisasters.rename(columns={\n",
    "    \"Index Year (Decade)\": 'Index Year'\n",
    "}, inplace=True)\n",
    "\n",
    "# Setting the minimum year in our data [note: 'Death rates from disasters' in 1990 was already halved, to look like half a decade]\n",
    "df_naturalDisasters.loc[df_naturalDisasters['Index Year'] == 1990, ['Index Year']] = 1995\n",
    "\n",
    "# Transforming Decade Data into Yearly data\n",
    "df_naturalDisasters.loc[df_naturalDisasters['Index Year'] == 1995, ['Death rates from disasters']] /= 5\n",
    "df_naturalDisasters.loc[df_naturalDisasters['Index Year'] == 2000, ['Death rates from disasters']] /= 10\n",
    "df_naturalDisasters.loc[df_naturalDisasters['Index Year'] == 2010, ['Death rates from disasters']] /= 10\n",
    "\n",
    "# List of years to add\n",
    "years_to_add = list(range(1996, 2022+1))\n",
    "years_to_add.remove(2000)\n",
    "years_to_add.remove(2010)\n",
    "\n",
    "new_rows = []\n",
    "for year in years_to_add:\n",
    "    for country in df_naturalDisasters['Country Name'].unique():\n",
    "        new_rows.append({\n",
    "            'Country Name': country,\n",
    "            'Index Year': year,\n",
    "            'Death rates from disasters': np.nan\n",
    "            })\n",
    "        \n",
    "# Combining data\n",
    "df_temp = pd.DataFrame(new_rows)\n",
    "df_naturalDisasters = pd.concat([df_naturalDisasters, df_temp], ignore_index=True)\n",
    "\n",
    "# Sorting By year, then by Country\n",
    "df_naturalDisasters = df_naturalDisasters.sort_values(by=['Country Name', 'Index Year']).reset_index(drop=True)\n",
    "\n",
    "# Interpolating 'Death rates from disasters'\n",
    "df_naturalDisasters['Death rates from disasters'] = df_naturalDisasters.groupby('Country Name')['Death rates from disasters'].apply(lambda group: group.ffill(axis=0)).reset_index(drop=True)\n",
    "\n",
    "# Doing the actual merging\n",
    "df_master = df_master.merge(df_naturalDisasters, how='left', on=['Country Name', 'Index Year'])\n",
    "\n",
    "display(df_naturalDisasters.columns)"
   ]
  },
  {
   "cell_type": "markdown",
   "metadata": {},
   "source": [
    "### Cleaning Original DataSets before merging them into df_master"
   ]
  },
  {
   "cell_type": "code",
   "execution_count": 10,
   "metadata": {},
   "outputs": [],
   "source": [
    "def fuzzySearchName(name, refNames=df_master, score_threshold = 87):\n",
    "    '''\n",
    "        Given a country name, returns the closest match from refNames using fuzzy search.\n",
    "        If no close match is found, it returns \"PLEASE FILL MANUALLY\".\n",
    "    '''\n",
    "    \n",
    "    # If the name is empty or null, return \"UNKNOWN\"\n",
    "    if pd.isna(name) or not name.strip():\n",
    "        return \"UNKNOWN\"\n",
    "\n",
    "    exceptions = {\n",
    "        \"Kyrgyzstan\": \"Kyrgyz Republic\",\n",
    "        \"Congo\": \"Republic of Congo\",\n",
    "        'Congo, Rep.': \"Republic of Congo\",\n",
    "        'Congo, Dem. Rep.': \"Democratic Republic of Congo\",\n",
    "        'Democratic Republic Of The Congo': 'Democratic Republic of Congo',\n",
    "        \"Czechia\": \"Czech Republic\",\n",
    "        \"Slovakia\": \"Slovak Republic\",\n",
    "        \"Macao Sar, China\": \"Macau\",\n",
    "        \"Macao\": \"Macau\",\n",
    "        'Republic Of The Congo': 'Republic of Congo',\n",
    "        'Swaziland': 'Eswatini',\n",
    "        'Korea, Rep.': 'South Korea',\n",
    "        \"Korea, Dem. People'S Rep.\": 'North Korea',\n",
    "        'St. Vincent and the Grenadines': 'Saint Vincent and the Grenadines',\n",
    "        'Lao Pdr': 'Laos',\n",
    "        \"Hong Kong Sar, China\": \"Hong Kong\",\n",
    "        'Cabo Verde': 'Cape Verde',\n",
    "        'Egypt, Arab Rep.': 'Egypt',\n",
    "        'Turkiye': 'Turkey',\n",
    "        'St. Lucia': 'Saint Lucia'\n",
    "        \n",
    "    }\n",
    "    \n",
    "    if name in exceptions:\n",
    "        return exceptions[name]\n",
    "    \n",
    "    match, score = process.extractOne(name, refNames['Country Name'].unique())\n",
    "\n",
    "    # If a close match is found, return the match\n",
    "    if score > score_threshold:\n",
    "        return match\n",
    "    \n",
    "    # If no close match is found, ask for manual input\n",
    "    return \"PLEASE FILL MANUALLY\""
   ]
  },
  {
   "cell_type": "markdown",
   "metadata": {},
   "source": [
    "Academic Relevance"
   ]
  },
  {
   "cell_type": "code",
   "execution_count": 11,
   "metadata": {},
   "outputs": [],
   "source": [
    "df_academicRelevance.rename(columns={'Country': 'Old Country Name', 'H index': 'H index (Academic Papers)'}, inplace=True)\n",
    "\n",
    "df_academicRelevance = df_academicRelevance[['Old Country Name', 'H index (Academic Papers)']]"
   ]
  },
  {
   "cell_type": "code",
   "execution_count": 12,
   "metadata": {},
   "outputs": [],
   "source": [
    "def cleanedNamesMask(df, column = str()):\n",
    "\n",
    "    '''\n",
    "        Takes a dataFrame (and its column with Country Names), and returns a mask of rows to exclude\n",
    "    '''\n",
    "\n",
    "    removeList = [\n",
    "    'British Indian Ocean Territory', 'Africa', 'Europe', 'North America', 'South America', 'Asia', 'Oceania',\n",
    "    'Sint Maarten (Dutch part)', 'Saint Martin (French Part)', 'Antigua and Barbuda',\n",
    "    'Netherlands Antilles', 'Northern Mariana Islands', 'Saint Barthelemy',\n",
    "    'Saint Helena, Ascension and Tristan da Cunha', 'Saint Kitts and Nevis',\n",
    "    'Serbia-Montenegro', \"Turks and Caicos Islands\", 'United States Virgin Islands',\n",
    "    'Wallis and Futuna', 'Yugoslavia', 'Cocos (Keeling) Islands', 'Isle Of Man', 'South Georgia And South Sandwich Islands',\n",
    "    'South Sudan','United States Minor Outlying Islands','Saint Pierre And Miquelon', 'American Samoa',\n",
    "    'Falkland Islands (Malvinas)', 'Virgin Islands (British)', 'Saint Martin (Dutch)', 'Saint Martin (French)',\n",
    "    'Heard Island And Mcdonald Islands', 'South Georgia And The South Sandwich Islands', 'Republic Of South Sudan',\n",
    "    'Somalia'\n",
    "    ]\n",
    "\n",
    "    df[column] = df[column].str.strip().str.title()\n",
    "    removeList = [country.title() for country in removeList]\n",
    "\n",
    "    mask = ~df[column].isin(removeList)\n",
    "\n",
    "    return mask"
   ]
  },
  {
   "cell_type": "code",
   "execution_count": 13,
   "metadata": {},
   "outputs": [
    {
     "data": {
      "text/plain": [
       "'% of included countries in mask:'"
      ]
     },
     "metadata": {},
     "output_type": "display_data"
    },
    {
     "data": {
      "text/plain": [
       "0.9218106995884774"
      ]
     },
     "metadata": {},
     "output_type": "display_data"
    }
   ],
   "source": [
    "# Excluding non-relevant countries to our DataSet\n",
    "mask = cleanedNamesMask(df_academicRelevance, 'Old Country Name')\n",
    "df_academicRelevance = df_academicRelevance[mask]\n",
    "\n",
    "\n",
    "display(f'% of included countries in mask:', mask.mean())"
   ]
  },
  {
   "cell_type": "code",
   "execution_count": 14,
   "metadata": {},
   "outputs": [],
   "source": [
    "df_academicRelevance['Country Name'] = df_academicRelevance['Old Country Name'].apply(fuzzySearchName)"
   ]
  },
  {
   "cell_type": "code",
   "execution_count": 15,
   "metadata": {},
   "outputs": [],
   "source": [
    "# Removing unmatched fuzzySearch names\n",
    "mask = df_academicRelevance['Country Name'] == 'PLEASE FILL MANUALLY'\n",
    "df_academicRelevance = df_academicRelevance[~mask]\n",
    "\n",
    "# Removing old names\n",
    "df_academicRelevance = df_academicRelevance[['Country Name', 'H index (Academic Papers)']].sort_values(by=['Country Name']).reset_index(drop=True)"
   ]
  },
  {
   "cell_type": "code",
   "execution_count": 16,
   "metadata": {},
   "outputs": [],
   "source": [
    "# Manually adding Kosovo. Source: https://xk.h-index.com/en\n",
    "# Manually adding North Macedonia. Source: https://www.adscientificindex.com/?country_code=mk\n",
    "\n",
    "df_temp = pd.DataFrame({\n",
    "    'Country Name': ['Kosovo', 'North Macedonia'],\n",
    "    'H index (Academic Papers)': [147, 59]\n",
    "})\n",
    "\n",
    "df_academicRelevance = pd.concat([df_academicRelevance, df_temp], ignore_index=True)\n"
   ]
  },
  {
   "cell_type": "code",
   "execution_count": 17,
   "metadata": {},
   "outputs": [
    {
     "data": {
      "text/plain": [
       "'Names we should exclude: set()'"
      ]
     },
     "metadata": {},
     "output_type": "display_data"
    },
    {
     "data": {
      "text/plain": [
       "'Names that are still missing: set()'"
      ]
     },
     "metadata": {},
     "output_type": "display_data"
    }
   ],
   "source": [
    "set_A = set(df_academicRelevance['Country Name'].unique())\n",
    "set_B = set(df_master['Country Name'].unique())\n",
    "\n",
    "display(f'Names we should exclude: {set_A - set_B}')\n",
    "display(f'Names that are still missing: {set_B - set_A}')"
   ]
  },
  {
   "cell_type": "code",
   "execution_count": 18,
   "metadata": {},
   "outputs": [
    {
     "data": {
      "text/plain": [
       "Index(['Country Name', 'H index (Academic Papers)'], dtype='object')"
      ]
     },
     "metadata": {},
     "output_type": "display_data"
    }
   ],
   "source": [
    "df_master = df_master.merge(df_academicRelevance, how='left', on=['Country Name'])\n",
    "\n",
    "display(df_academicRelevance.columns)"
   ]
  },
  {
   "cell_type": "markdown",
   "metadata": {},
   "source": [
    "World Bank:\n",
    "\n",
    "Arable Land and Qualified Work Foce"
   ]
  },
  {
   "cell_type": "code",
   "execution_count": 19,
   "metadata": {},
   "outputs": [
    {
     "data": {
      "text/html": [
       "<div>\n",
       "<style scoped>\n",
       "    .dataframe tbody tr th:only-of-type {\n",
       "        vertical-align: middle;\n",
       "    }\n",
       "\n",
       "    .dataframe tbody tr th {\n",
       "        vertical-align: top;\n",
       "    }\n",
       "\n",
       "    .dataframe thead th {\n",
       "        text-align: right;\n",
       "    }\n",
       "</style>\n",
       "<table border=\"1\" class=\"dataframe\">\n",
       "  <thead>\n",
       "    <tr style=\"text-align: right;\">\n",
       "      <th></th>\n",
       "      <th>Country Name</th>\n",
       "      <th>Country Code</th>\n",
       "      <th>Indicator Name</th>\n",
       "      <th>Indicator Code</th>\n",
       "      <th>1960</th>\n",
       "      <th>1961</th>\n",
       "      <th>1962</th>\n",
       "      <th>1963</th>\n",
       "      <th>1964</th>\n",
       "      <th>1965</th>\n",
       "      <th>...</th>\n",
       "      <th>2014</th>\n",
       "      <th>2015</th>\n",
       "      <th>2016</th>\n",
       "      <th>2017</th>\n",
       "      <th>2018</th>\n",
       "      <th>2019</th>\n",
       "      <th>2020</th>\n",
       "      <th>2021</th>\n",
       "      <th>2022</th>\n",
       "      <th>Unnamed: 67</th>\n",
       "    </tr>\n",
       "  </thead>\n",
       "  <tbody>\n",
       "    <tr>\n",
       "      <th>0</th>\n",
       "      <td>Aruba</td>\n",
       "      <td>ABW</td>\n",
       "      <td>Arable land (% of land area)</td>\n",
       "      <td>AG.LND.ARBL.ZS</td>\n",
       "      <td>NaN</td>\n",
       "      <td>11.111111</td>\n",
       "      <td>11.111111</td>\n",
       "      <td>11.111111</td>\n",
       "      <td>11.111111</td>\n",
       "      <td>11.111111</td>\n",
       "      <td>...</td>\n",
       "      <td>11.111111</td>\n",
       "      <td>11.111111</td>\n",
       "      <td>11.111111</td>\n",
       "      <td>11.111111</td>\n",
       "      <td>11.111111</td>\n",
       "      <td>11.111111</td>\n",
       "      <td>11.111111</td>\n",
       "      <td>11.111111</td>\n",
       "      <td>NaN</td>\n",
       "      <td>NaN</td>\n",
       "    </tr>\n",
       "    <tr>\n",
       "      <th>1</th>\n",
       "      <td>Africa Eastern and Southern</td>\n",
       "      <td>AFE</td>\n",
       "      <td>Arable land (% of land area)</td>\n",
       "      <td>AG.LND.ARBL.ZS</td>\n",
       "      <td>NaN</td>\n",
       "      <td>4.702843</td>\n",
       "      <td>4.754588</td>\n",
       "      <td>4.866723</td>\n",
       "      <td>4.918674</td>\n",
       "      <td>4.972683</td>\n",
       "      <td>...</td>\n",
       "      <td>7.971467</td>\n",
       "      <td>8.016863</td>\n",
       "      <td>8.098773</td>\n",
       "      <td>8.193305</td>\n",
       "      <td>8.256337</td>\n",
       "      <td>8.284319</td>\n",
       "      <td>8.304220</td>\n",
       "      <td>8.322455</td>\n",
       "      <td>NaN</td>\n",
       "      <td>NaN</td>\n",
       "    </tr>\n",
       "  </tbody>\n",
       "</table>\n",
       "<p>2 rows × 68 columns</p>\n",
       "</div>"
      ],
      "text/plain": [
       "                  Country Name Country Code                Indicator Name  \\\n",
       "0                        Aruba          ABW  Arable land (% of land area)   \n",
       "1  Africa Eastern and Southern          AFE  Arable land (% of land area)   \n",
       "\n",
       "   Indicator Code  1960       1961       1962       1963       1964  \\\n",
       "0  AG.LND.ARBL.ZS   NaN  11.111111  11.111111  11.111111  11.111111   \n",
       "1  AG.LND.ARBL.ZS   NaN   4.702843   4.754588   4.866723   4.918674   \n",
       "\n",
       "        1965  ...       2014       2015       2016       2017       2018  \\\n",
       "0  11.111111  ...  11.111111  11.111111  11.111111  11.111111  11.111111   \n",
       "1   4.972683  ...   7.971467   8.016863   8.098773   8.193305   8.256337   \n",
       "\n",
       "        2019       2020       2021  2022  Unnamed: 67  \n",
       "0  11.111111  11.111111  11.111111   NaN          NaN  \n",
       "1   8.284319   8.304220   8.322455   NaN          NaN  \n",
       "\n",
       "[2 rows x 68 columns]"
      ]
     },
     "metadata": {},
     "output_type": "display_data"
    }
   ],
   "source": [
    "#display(df_qualifiedLaborForce.head(2))\n",
    "\n",
    "display(df_arableLand.head(2))"
   ]
  },
  {
   "cell_type": "code",
   "execution_count": 20,
   "metadata": {},
   "outputs": [
    {
     "data": {
      "text/plain": [
       "['Aruba',\n",
       " 'Africa Eastern and Southern',\n",
       " 'Afghanistan',\n",
       " 'Africa Western and Central',\n",
       " 'Angola',\n",
       " 'Albania',\n",
       " 'Andorra',\n",
       " 'Arab World',\n",
       " 'United Arab Emirates',\n",
       " 'Argentina',\n",
       " 'Armenia',\n",
       " 'American Samoa',\n",
       " 'Antigua and Barbuda',\n",
       " 'Australia',\n",
       " 'Austria',\n",
       " 'Azerbaijan',\n",
       " 'Burundi',\n",
       " 'Belgium',\n",
       " 'Benin',\n",
       " 'Burkina Faso',\n",
       " 'Bangladesh',\n",
       " 'Bulgaria',\n",
       " 'Bahrain',\n",
       " 'Bahamas, The',\n",
       " 'Bosnia and Herzegovina',\n",
       " 'Belarus',\n",
       " 'Belize',\n",
       " 'Bermuda',\n",
       " 'Bolivia',\n",
       " 'Brazil',\n",
       " 'Barbados',\n",
       " 'Brunei Darussalam',\n",
       " 'Bhutan',\n",
       " 'Botswana',\n",
       " 'Central African Republic',\n",
       " 'Canada',\n",
       " 'Central Europe and the Baltics',\n",
       " 'Switzerland',\n",
       " 'Channel Islands',\n",
       " 'Chile',\n",
       " 'China',\n",
       " \"Cote d'Ivoire\",\n",
       " 'Cameroon',\n",
       " 'Congo, Dem. Rep.',\n",
       " 'Congo, Rep.',\n",
       " 'Colombia',\n",
       " 'Comoros',\n",
       " 'Cabo Verde',\n",
       " 'Costa Rica',\n",
       " 'Caribbean small states',\n",
       " 'Cuba',\n",
       " 'Curacao',\n",
       " 'Cayman Islands',\n",
       " 'Cyprus',\n",
       " 'Czechia',\n",
       " 'Germany',\n",
       " 'Djibouti',\n",
       " 'Dominica',\n",
       " 'Denmark',\n",
       " 'Dominican Republic',\n",
       " 'Algeria',\n",
       " 'East Asia & Pacific (excluding high income)',\n",
       " 'Early-demographic dividend',\n",
       " 'East Asia & Pacific',\n",
       " 'Europe & Central Asia (excluding high income)',\n",
       " 'Europe & Central Asia',\n",
       " 'Ecuador',\n",
       " 'Egypt, Arab Rep.',\n",
       " 'Euro area',\n",
       " 'Eritrea',\n",
       " 'Spain',\n",
       " 'Estonia',\n",
       " 'Ethiopia',\n",
       " 'European Union',\n",
       " 'Fragile and conflict affected situations',\n",
       " 'Finland',\n",
       " 'Fiji',\n",
       " 'France',\n",
       " 'Faroe Islands',\n",
       " 'Micronesia, Fed. Sts.',\n",
       " 'Gabon',\n",
       " 'United Kingdom',\n",
       " 'Georgia',\n",
       " 'Ghana',\n",
       " 'Gibraltar',\n",
       " 'Guinea',\n",
       " 'Gambia, The',\n",
       " 'Guinea-Bissau',\n",
       " 'Equatorial Guinea',\n",
       " 'Greece',\n",
       " 'Grenada',\n",
       " 'Greenland',\n",
       " 'Guatemala',\n",
       " 'Guam',\n",
       " 'Guyana',\n",
       " 'High income',\n",
       " 'Hong Kong SAR, China',\n",
       " 'Honduras',\n",
       " 'Heavily indebted poor countries (HIPC)',\n",
       " 'Croatia',\n",
       " 'Haiti',\n",
       " 'Hungary',\n",
       " 'IBRD only',\n",
       " 'IDA & IBRD total',\n",
       " 'IDA total',\n",
       " 'IDA blend',\n",
       " 'Indonesia',\n",
       " 'IDA only',\n",
       " 'Isle of Man',\n",
       " 'India',\n",
       " 'Not classified',\n",
       " 'Ireland',\n",
       " 'Iran, Islamic Rep.',\n",
       " 'Iraq',\n",
       " 'Iceland',\n",
       " 'Israel',\n",
       " 'Italy',\n",
       " 'Jamaica',\n",
       " 'Jordan',\n",
       " 'Japan',\n",
       " 'Kazakhstan',\n",
       " 'Kenya',\n",
       " 'Kyrgyz Republic',\n",
       " 'Cambodia',\n",
       " 'Kiribati',\n",
       " 'St. Kitts and Nevis',\n",
       " 'Korea, Rep.',\n",
       " 'Kuwait',\n",
       " 'Latin America & Caribbean (excluding high income)',\n",
       " 'Lao PDR',\n",
       " 'Lebanon',\n",
       " 'Liberia',\n",
       " 'Libya',\n",
       " 'St. Lucia',\n",
       " 'Latin America & Caribbean',\n",
       " 'Least developed countries: UN classification',\n",
       " 'Low income',\n",
       " 'Liechtenstein',\n",
       " 'Sri Lanka',\n",
       " 'Lower middle income',\n",
       " 'Low & middle income',\n",
       " 'Lesotho',\n",
       " 'Late-demographic dividend',\n",
       " 'Lithuania',\n",
       " 'Luxembourg',\n",
       " 'Latvia',\n",
       " 'Macao SAR, China',\n",
       " 'St. Martin (French part)',\n",
       " 'Morocco',\n",
       " 'Monaco',\n",
       " 'Moldova',\n",
       " 'Madagascar',\n",
       " 'Maldives',\n",
       " 'Middle East & North Africa',\n",
       " 'Mexico',\n",
       " 'Marshall Islands',\n",
       " 'Middle income',\n",
       " 'North Macedonia',\n",
       " 'Mali',\n",
       " 'Malta',\n",
       " 'Myanmar',\n",
       " 'Middle East & North Africa (excluding high income)',\n",
       " 'Montenegro',\n",
       " 'Mongolia',\n",
       " 'Northern Mariana Islands',\n",
       " 'Mozambique',\n",
       " 'Mauritania',\n",
       " 'Mauritius',\n",
       " 'Malawi',\n",
       " 'Malaysia',\n",
       " 'North America',\n",
       " 'Namibia',\n",
       " 'New Caledonia',\n",
       " 'Niger',\n",
       " 'Nigeria',\n",
       " 'Nicaragua',\n",
       " 'Netherlands',\n",
       " 'Norway',\n",
       " 'Nepal',\n",
       " 'Nauru',\n",
       " 'New Zealand',\n",
       " 'OECD members',\n",
       " 'Oman',\n",
       " 'Other small states',\n",
       " 'Pakistan',\n",
       " 'Panama',\n",
       " 'Peru',\n",
       " 'Philippines',\n",
       " 'Palau',\n",
       " 'Papua New Guinea',\n",
       " 'Poland',\n",
       " 'Pre-demographic dividend',\n",
       " 'Puerto Rico',\n",
       " \"Korea, Dem. People's Rep.\",\n",
       " 'Portugal',\n",
       " 'Paraguay',\n",
       " 'West Bank and Gaza',\n",
       " 'Pacific island small states',\n",
       " 'Post-demographic dividend',\n",
       " 'French Polynesia',\n",
       " 'Qatar',\n",
       " 'Romania',\n",
       " 'Russian Federation',\n",
       " 'Rwanda',\n",
       " 'South Asia',\n",
       " 'Saudi Arabia',\n",
       " 'Sudan',\n",
       " 'Senegal',\n",
       " 'Singapore',\n",
       " 'Solomon Islands',\n",
       " 'Sierra Leone',\n",
       " 'El Salvador',\n",
       " 'San Marino',\n",
       " 'Somalia',\n",
       " 'Serbia',\n",
       " 'Sub-Saharan Africa (excluding high income)',\n",
       " 'South Sudan',\n",
       " 'Sub-Saharan Africa',\n",
       " 'Small states',\n",
       " 'Sao Tome and Principe',\n",
       " 'Suriname',\n",
       " 'Slovak Republic',\n",
       " 'Slovenia',\n",
       " 'Sweden',\n",
       " 'Eswatini',\n",
       " 'Sint Maarten (Dutch part)',\n",
       " 'Seychelles',\n",
       " 'Syrian Arab Republic',\n",
       " 'Turks and Caicos Islands',\n",
       " 'Chad',\n",
       " 'East Asia & Pacific (IDA & IBRD countries)',\n",
       " 'Europe & Central Asia (IDA & IBRD countries)',\n",
       " 'Togo',\n",
       " 'Thailand',\n",
       " 'Tajikistan',\n",
       " 'Turkmenistan',\n",
       " 'Latin America & the Caribbean (IDA & IBRD countries)',\n",
       " 'Timor-Leste',\n",
       " 'Middle East & North Africa (IDA & IBRD countries)',\n",
       " 'Tonga',\n",
       " 'South Asia (IDA & IBRD)',\n",
       " 'Sub-Saharan Africa (IDA & IBRD countries)',\n",
       " 'Trinidad and Tobago',\n",
       " 'Tunisia',\n",
       " 'Turkiye',\n",
       " 'Tuvalu',\n",
       " 'Tanzania',\n",
       " 'Uganda',\n",
       " 'Ukraine',\n",
       " 'Upper middle income',\n",
       " 'Uruguay',\n",
       " 'United States',\n",
       " 'Uzbekistan',\n",
       " 'St. Vincent and the Grenadines',\n",
       " 'Venezuela, RB',\n",
       " 'British Virgin Islands',\n",
       " 'Virgin Islands (U.S.)',\n",
       " 'Vietnam',\n",
       " 'Vanuatu',\n",
       " 'World',\n",
       " 'Samoa',\n",
       " 'Kosovo',\n",
       " 'Yemen, Rep.',\n",
       " 'South Africa',\n",
       " 'Zambia',\n",
       " 'Zimbabwe']"
      ]
     },
     "execution_count": 20,
     "metadata": {},
     "output_type": "execute_result"
    }
   ],
   "source": [
    "list(df_arableLand['Country Name'].unique())"
   ]
  },
  {
   "cell_type": "code",
   "execution_count": 21,
   "metadata": {},
   "outputs": [],
   "source": [
    "df_qualifiedLaborForce = df_qualifiedLaborForce[cleanedNamesMask(df_qualifiedLaborForce, 'Country Name')]\n",
    "\n",
    "df_arableLand = df_arableLand[cleanedNamesMask(df_arableLand, 'Country Name')]"
   ]
  },
  {
   "cell_type": "code",
   "execution_count": 22,
   "metadata": {},
   "outputs": [],
   "source": [
    "df_arableLand['New Country Name'] = df_arableLand['Country Name'].apply(fuzzySearchName)\n",
    "df_qualifiedLaborForce['New Country Name'] = df_qualifiedLaborForce['Country Name'].apply(fuzzySearchName)"
   ]
  },
  {
   "cell_type": "code",
   "execution_count": 23,
   "metadata": {},
   "outputs": [
    {
     "data": {
      "text/plain": [
       "count             183\n",
       "unique            183\n",
       "top       Afghanistan\n",
       "freq                1\n",
       "Name: New Country Name, dtype: object"
      ]
     },
     "metadata": {},
     "output_type": "display_data"
    },
    {
     "data": {
      "text/plain": [
       "count             183\n",
       "unique            183\n",
       "top       Afghanistan\n",
       "freq                1\n",
       "Name: New Country Name, dtype: object"
      ]
     },
     "metadata": {},
     "output_type": "display_data"
    }
   ],
   "source": [
    "# Excluding \"PLEASE FILL MANUALLY\"\n",
    "df_arableLand = df_arableLand[~df_arableLand['New Country Name'].isin([\"PLEASE FILL MANUALLY\"])]\n",
    "df_qualifiedLaborForce = df_qualifiedLaborForce[~df_qualifiedLaborForce['New Country Name'].isin([\"PLEASE FILL MANUALLY\"])]\n",
    "\n",
    "# Checking for duplicated countries (top freq should be 1)\n",
    "display(df_arableLand['New Country Name'].describe(include=['object']))\n",
    "display(df_qualifiedLaborForce['New Country Name'].describe(include=['object']))\n",
    "\n",
    "# Casting New Country Name to Country Name\n",
    "df_arableLand['Country Name'] = df_arableLand['New Country Name']\n",
    "df_qualifiedLaborForce['Country Name'] = df_qualifiedLaborForce['New Country Name']"
   ]
  },
  {
   "cell_type": "markdown",
   "metadata": {},
   "source": [
    "We'll now exclude some unnecessary columns and then transpose the DataFrames"
   ]
  },
  {
   "cell_type": "code",
   "execution_count": 24,
   "metadata": {},
   "outputs": [],
   "source": [
    "years = list(df_arableLand.columns)[-3:-31:-1]  # This selects the columns representing 1995 through 2022\n",
    "df_arableLand = df_arableLand[['Country Name'] + years[::-1]]\n",
    "df_qualifiedLaborForce = df_qualifiedLaborForce[['Country Name'] + years[::-1]]"
   ]
  },
  {
   "cell_type": "code",
   "execution_count": 25,
   "metadata": {},
   "outputs": [],
   "source": [
    "df_arableLand = df_arableLand.melt(id_vars=[\"Country Name\"], \n",
    "                               value_vars=list(map(str, range(1995, 2023))),\n",
    "                               var_name=\"Index Year\", \n",
    "                               value_name=\"Arable Land pct\")\n",
    "\n",
    "df_qualifiedLaborForce = df_qualifiedLaborForce.melt(id_vars=[\"Country Name\"], \n",
    "                               value_vars=list(map(str, range(1995, 2023))),\n",
    "                               var_name=\"Index Year\", \n",
    "                               value_name=\"Qualified Labor Force pct\")"
   ]
  },
  {
   "cell_type": "code",
   "execution_count": 26,
   "metadata": {},
   "outputs": [],
   "source": [
    "# Converting Index Year to int\n",
    "df_arableLand['Index Year'] = df_arableLand['Index Year'].astype('int')\n",
    "df_qualifiedLaborForce['Index Year'] = df_qualifiedLaborForce['Index Year'].astype('int')"
   ]
  },
  {
   "cell_type": "code",
   "execution_count": 29,
   "metadata": {},
   "outputs": [
    {
     "data": {
      "text/plain": [
       "'df_arableLand Stats'"
      ]
     },
     "metadata": {},
     "output_type": "display_data"
    },
    {
     "data": {
      "text/plain": [
       "'Names we should exclude: set()'"
      ]
     },
     "metadata": {},
     "output_type": "display_data"
    },
    {
     "data": {
      "text/plain": [
       "'Names that are still missing: set()'"
      ]
     },
     "metadata": {},
     "output_type": "display_data"
    },
    {
     "data": {
      "text/plain": [
       "(5124, 3)"
      ]
     },
     "metadata": {},
     "output_type": "display_data"
    }
   ],
   "source": [
    "display('df_arableLand Stats')\n",
    "set_A = set(df_arableLand['Country Name'].unique())\n",
    "set_B = set(df_master['Country Name'].unique())\n",
    "\n",
    "display(f'Names we should exclude: {set_A - set_B}')\n",
    "display(f'Names that are still missing: {set_B - set_A}')\n",
    "\n",
    "\n",
    "display(df_arableLand.shape)"
   ]
  },
  {
   "cell_type": "code",
   "execution_count": 31,
   "metadata": {},
   "outputs": [
    {
     "data": {
      "text/plain": [
       "'df_qualifiedLaborForce Stats'"
      ]
     },
     "metadata": {},
     "output_type": "display_data"
    },
    {
     "data": {
      "text/plain": [
       "'Names we should exclude: set()'"
      ]
     },
     "metadata": {},
     "output_type": "display_data"
    },
    {
     "data": {
      "text/plain": [
       "'Names that are still missing: set()'"
      ]
     },
     "metadata": {},
     "output_type": "display_data"
    },
    {
     "data": {
      "text/plain": [
       "(5124, 3)"
      ]
     },
     "metadata": {},
     "output_type": "display_data"
    }
   ],
   "source": [
    "display('df_qualifiedLaborForce Stats')\n",
    "set_A = set(df_qualifiedLaborForce['Country Name'].unique())\n",
    "set_B = set(df_master['Country Name'].unique())\n",
    "\n",
    "display(f'Names we should exclude: {set_A - set_B}')\n",
    "display(f'Names that are still missing: {set_B - set_A}')\n",
    "\n",
    "\n",
    "display(df_qualifiedLaborForce.shape)"
   ]
  },
  {
   "cell_type": "code",
   "execution_count": 28,
   "metadata": {},
   "outputs": [
    {
     "data": {
      "text/plain": [
       "Index(['Country Name', 'Index Year', 'Arable Land pct'], dtype='object')"
      ]
     },
     "metadata": {},
     "output_type": "display_data"
    },
    {
     "data": {
      "text/plain": [
       "Index(['Country Name', 'Index Year', 'Qualified Labor Force pct'], dtype='object')"
      ]
     },
     "metadata": {},
     "output_type": "display_data"
    }
   ],
   "source": [
    "df_master = df_master.merge(df_arableLand, how='left', on=['Country Name', 'Index Year'])\n",
    "df_master = df_master.merge(df_qualifiedLaborForce, how='left', on=['Country Name', 'Index Year'])\n",
    "\n",
    "display(df_arableLand.columns)\n",
    "display(df_qualifiedLaborForce.columns)"
   ]
  },
  {
   "cell_type": "markdown",
   "metadata": {},
   "source": [
    "set_A = set(df_academicRelevance['Country Name'].unique())\n",
    "set_B = set(df_master['Country Name'].unique())\n",
    "\n",
    "display(set_A - set_B)\n",
    "display(set_B - set_A)"
   ]
  }
 ],
 "metadata": {
  "kernelspec": {
   "display_name": "EconStats",
   "language": "python",
   "name": "python3"
  },
  "language_info": {
   "codemirror_mode": {
    "name": "ipython",
    "version": 3
   },
   "file_extension": ".py",
   "mimetype": "text/x-python",
   "name": "python",
   "nbconvert_exporter": "python",
   "pygments_lexer": "ipython3",
   "version": "3.10.13"
  }
 },
 "nbformat": 4,
 "nbformat_minor": 2
}
