{
 "cells": [
  {
   "cell_type": "code",
   "execution_count": 1,
   "metadata": {},
   "outputs": [],
   "source": [
    "import pandas as pd\n",
    "import numpy as np\n",
    "import matplotlib.pyplot as plt\n",
    "import geopandas as gpd\n"
   ]
  },
  {
   "cell_type": "markdown",
   "metadata": {},
   "source": [
    "## Extracting Values"
   ]
  },
  {
   "cell_type": "code",
   "execution_count": 2,
   "metadata": {},
   "outputs": [],
   "source": [
    "# Load the GeoJSON file from World Bank\n",
    "world = gpd.read_file('..\\Data_Sets\\originalData\\WB_countries_Admin0.geojson')"
   ]
  },
  {
   "cell_type": "code",
   "execution_count": 3,
   "metadata": {},
   "outputs": [],
   "source": [
    "df_countriesSize = world[['WB_NAME', 'Shape_Leng', 'Shape_Area', 'SUBREGION']]"
   ]
  },
  {
   "cell_type": "markdown",
   "metadata": {},
   "source": [
    "Renaming regions to have 2 levels of grouping"
   ]
  },
  {
   "cell_type": "code",
   "execution_count": 4,
   "metadata": {},
   "outputs": [
    {
     "name": "stderr",
     "output_type": "stream",
     "text": [
      "C:\\Users\\gusta\\AppData\\Local\\Temp\\ipykernel_15000\\1417884505.py:1: SettingWithCopyWarning: \n",
      "A value is trying to be set on a copy of a slice from a DataFrame.\n",
      "Try using .loc[row_indexer,col_indexer] = value instead\n",
      "\n",
      "See the caveats in the documentation: https://pandas.pydata.org/pandas-docs/stable/user_guide/indexing.html#returning-a-view-versus-a-copy\n",
      "  df_countriesSize['REGION'] = df_countriesSize['SUBREGION']\n",
      "C:\\Users\\gusta\\AppData\\Local\\Temp\\ipykernel_15000\\1417884505.py:3: SettingWithCopyWarning: \n",
      "A value is trying to be set on a copy of a slice from a DataFrame\n",
      "\n",
      "See the caveats in the documentation: https://pandas.pydata.org/pandas-docs/stable/user_guide/indexing.html#returning-a-view-versus-a-copy\n",
      "  df_countriesSize['REGION'].replace(\n"
     ]
    }
   ],
   "source": [
    "df_countriesSize['REGION'] = df_countriesSize['SUBREGION']\n",
    "\n",
    "df_countriesSize['REGION'].replace(\n",
    "    {\n",
    "    'South-Eastern Asia': 'SEA_Oceania',\n",
    "    'Australia and New Zealand': 'SEA_Oceania',\n",
    "    'Melanesia': 'SEA_Oceania',\n",
    "    'Micronesia': 'SEA_Oceania',\n",
    "    'Polynesia': 'SEA_Oceania',\n",
    "    'South America': 'SouthAmerica',\n",
    "    'Central America': 'CentralAmerica_Caribbean',\n",
    "    'Caribbean': 'CentralAmerica_Caribbean',\n",
    "    'Northern America': 'NorthAmerica',\n",
    "    'Eastern Europe': 'EasternEurope',\n",
    "    'Western Europe': 'WesternEurope',\n",
    "    'Northern Europe': 'WesternEurope',\n",
    "    'Southern Europe': 'WesternEurope',\n",
    "    'Eastern Asia': 'CentralAsia',\n",
    "    'Central Asia': 'CentralAsia',\n",
    "    'Southern Asia': 'SouthAsia',\n",
    "    'Eastern Africa': 'SubSaharanAfrica',\n",
    "    'Middle Africa': 'SubSaharanAfrica',\n",
    "    'Southern Africa': 'SubSaharanAfrica',\n",
    "    'Western Africa': 'SubSaharanAfrica',\n",
    "    'Northern Africa': 'NorthAfrica_MiddleEast',\n",
    "    'Western Asia': 'NorthAfrica_MiddleEast',\n",
    "    'Seven seas (open ocean)': 'SS'\n",
    "    }, inplace=True)\n",
    "\n",
    "df_countriesSize = df_countriesSize[df_countriesSize['REGION'] != 'SS']"
   ]
  },
  {
   "cell_type": "markdown",
   "metadata": {},
   "source": [
    "Let's delete countries we don't need in the database"
   ]
  },
  {
   "cell_type": "code",
   "execution_count": 5,
   "metadata": {},
   "outputs": [],
   "source": [
    "#Renaming Countries from df_WB to df_EF standard\n",
    "df_countriesSize.loc[df_countriesSize[\"WB_NAME\"] == \"Czechia\", \"WB_NAME\"] = \"Czech Republic\"\n",
    "df_countriesSize.loc[df_countriesSize[\"WB_NAME\"] == \"Cabo Verde\", \"WB_NAME\"] = \"Cape Verde\"\n",
    "df_countriesSize.loc[df_countriesSize[\"WB_NAME\"] == \"Congo, Democratic Republic of\", \"WB_NAME\"] = \"Democratic Republic of Congo\"\n",
    "df_countriesSize.loc[df_countriesSize[\"WB_NAME\"] == \"Congo, Rep. of\", \"WB_NAME\"] = \"Republic of Congo\"\n",
    "df_countriesSize.loc[df_countriesSize[\"WB_NAME\"] == \"Egypt, Arab Republic of\", \"WB_NAME\"] = \"Egypt\"\n",
    "df_countriesSize.loc[df_countriesSize[\"WB_NAME\"] == \"Hong Kong (SAR, China)\", \"WB_NAME\"] = \"Hong Kong\"\n",
    "df_countriesSize.loc[df_countriesSize[\"WB_NAME\"] == \"Iran, Islamic Republic of\", \"WB_NAME\"] = \"Iran\"\n",
    "df_countriesSize.loc[df_countriesSize[\"WB_NAME\"] == \"Lao People's Democratic Republic\", \"WB_NAME\"] = \"Laos\"\n",
    "df_countriesSize.loc[df_countriesSize[\"WB_NAME\"] == \"Macau (SAR, China)\", \"WB_NAME\"] = \"Macau\"\n",
    "df_countriesSize.loc[df_countriesSize[\"WB_NAME\"] == \"Micronesia, Federated States of\", \"WB_NAME\"] = \"Micronesia\"\n",
    "df_countriesSize.loc[df_countriesSize[\"WB_NAME\"] == \"Korea, Democratic People's Republic of\", \"WB_NAME\"] = \"North Korea\"\n",
    "df_countriesSize.loc[df_countriesSize[\"WB_NAME\"] == \"Korea, Republic of\", \"WB_NAME\"] = \"South Korea\"\n",
    "df_countriesSize.loc[df_countriesSize[\"WB_NAME\"] == \"Russian Federation\", \"WB_NAME\"] = \"Russia\"\n",
    "df_countriesSize.loc[df_countriesSize[\"WB_NAME\"] == \"St. Lucia\", \"WB_NAME\"] = \"Saint Lucia\"\n",
    "df_countriesSize.loc[df_countriesSize[\"WB_NAME\"] == \"St. Vincent and the Grenadines\", \"WB_NAME\"] = \"Saint Vincent and the Grenadines\"\n",
    "df_countriesSize.loc[df_countriesSize[\"WB_NAME\"] == \"Syrian Arab Republic\", \"WB_NAME\"] = \"Syria\"\n",
    "df_countriesSize.loc[df_countriesSize[\"WB_NAME\"] == \"Bahamas, The\", \"WB_NAME\"] = \"The Bahamas\"\n",
    "df_countriesSize.loc[df_countriesSize[\"WB_NAME\"] == \"Gambia, The\", \"WB_NAME\"] = \"The Gambia\"\n",
    "df_countriesSize.loc[df_countriesSize[\"WB_NAME\"] == \"Venezuela, Republica Bolivariana de\", \"WB_NAME\"] = \"Venezuela\"\n",
    "df_countriesSize.loc[df_countriesSize[\"WB_NAME\"] == \"Yemen, Republic of\", \"WB_NAME\"] = \"Yemen\"\n",
    "df_countriesSize.loc[df_countriesSize[\"WB_NAME\"] == \"São Tomé and Príncipe\", \"WB_NAME\"] = \"Sao Tome and Principe\"\n",
    "df_countriesSize.loc[df_countriesSize[\"WB_NAME\"] == \"Turkiye\", \"WB_NAME\"] = \"Turkey\"\n",
    "df_countriesSize.loc[df_countriesSize[\"WB_NAME\"] == \"Côte d'Ivoire\", \"WB_NAME\"] = \"Cote d'Ivoire\"\n",
    "df_countriesSize.loc[df_countriesSize[\"WB_NAME\"] == \"United States of America\", \"WB_NAME\"] = \"United States\"\n",
    "df_countriesSize.loc[df_countriesSize[\"WB_NAME\"] == \"eSwatini\", \"WB_NAME\"] = \"Eswatini\""
   ]
  },
  {
   "cell_type": "code",
   "execution_count": 6,
   "metadata": {},
   "outputs": [
    {
     "name": "stdout",
     "output_type": "stream",
     "text": [
      "original names count  : 185\n",
      "WB_beforeFilter count : 236\n",
      "filtered count        : 185\n"
     ]
    }
   ],
   "source": [
    "# importing our data set, to compare country names\n",
    "df_nameRef = pd.read_csv(\"..\\Data_Sets\\processed\\economicData_1960-2022_noNaN-drops.csv\") # Processed Data Set from an earlier notebook\n",
    "\n",
    "eligibleCountries = df_nameRef[\"Country Name\"].unique()\n",
    "filtered_df_WB = df_countriesSize[df_countriesSize['WB_NAME'].isin(eligibleCountries)]\n",
    "\n",
    "print('original names count  :', df_nameRef[\"Country Name\"].nunique())\n",
    "print('WB_beforeFilter count :', df_countriesSize['WB_NAME'].nunique())\n",
    "print('filtered count        :', filtered_df_WB['WB_NAME'].nunique())"
   ]
  },
  {
   "cell_type": "code",
   "execution_count": 7,
   "metadata": {},
   "outputs": [
    {
     "name": "stderr",
     "output_type": "stream",
     "text": [
      "C:\\Users\\gusta\\AppData\\Local\\Temp\\ipykernel_15000\\1662532298.py:2: SettingWithCopyWarning: \n",
      "A value is trying to be set on a copy of a slice from a DataFrame\n",
      "\n",
      "See the caveats in the documentation: https://pandas.pydata.org/pandas-docs/stable/user_guide/indexing.html#returning-a-view-versus-a-copy\n",
      "  filtered_df_WB.rename(columns={\n"
     ]
    }
   ],
   "source": [
    "# Let's rename some columns for consistency\n",
    "filtered_df_WB.rename(columns={\n",
    "    'WB_NAME': 'Country Name',\n",
    "    'REGION': 'Region',\n",
    "    'SUBREGION': 'SubRegion'\n",
    "    }, inplace=True)"
   ]
  },
  {
   "cell_type": "code",
   "execution_count": 8,
   "metadata": {},
   "outputs": [],
   "source": [
    "filtered_df_WB.to_csv('..\\Data_Sets\\processed\\\\addData_countriesSize_Regions.csv', index = False)"
   ]
  }
 ],
 "metadata": {
  "kernelspec": {
   "display_name": "EconStats",
   "language": "python",
   "name": "python3"
  },
  "language_info": {
   "codemirror_mode": {
    "name": "ipython",
    "version": 3
   },
   "file_extension": ".py",
   "mimetype": "text/x-python",
   "name": "python",
   "nbconvert_exporter": "python",
   "pygments_lexer": "ipython3",
   "version": "3.9.18"
  }
 },
 "nbformat": 4,
 "nbformat_minor": 2
}
