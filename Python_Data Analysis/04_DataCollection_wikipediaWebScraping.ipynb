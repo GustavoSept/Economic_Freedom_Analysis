{
 "cells": [
  {
   "cell_type": "markdown",
   "metadata": {},
   "source": [
    "# Extracting Wikipedia Data\n",
    "We'll extract some information about border lenghts and neighbours, wars, basic infrastructure, and general info like Top religions, area in KM, type of government and country position.\n",
    "\n",
    "### Preparations\n",
    "Let's write some functions and lists to make our jobs easier for the next tasks"
   ]
  },
  {
   "cell_type": "code",
   "execution_count": null,
   "metadata": {},
   "outputs": [],
   "source": [
    "import pandas as pd\n",
    "\n",
    "import requests\n",
    "import json\n",
    "from bs4 import BeautifulSoup\n",
    "\n",
    "from fuzzywuzzy import process\n",
    "import re"
   ]
  },
  {
   "cell_type": "code",
   "execution_count": null,
   "metadata": {},
   "outputs": [],
   "source": [
    "# I'll use a processed Data Set from an earlier notebook as the stardard for Country Names\n",
    "df = pd.read_csv(\"..\\Data_Sets\\processed\\economicData_1960-2022_noNaN-drops.csv\") \n",
    "refNames = pd.DataFrame({    \n",
    "    'Standard Names': df['Country Name'].unique(),\n",
    "    'targetNames': df['Country Name'].unique()\n",
    "})"
   ]
  },
  {
   "cell_type": "code",
   "execution_count": null,
   "metadata": {},
   "outputs": [],
   "source": [
    "def getSoupFromWiki(\n",
    "        link,\n",
    "        BASE_URL = \"https://en.wikipedia.org/w/api.php\",\n",
    "        action = \"parse\",\n",
    "        format = \"json\"\n",
    "    ):\n",
    "\n",
    "    '''\n",
    "        Given a title, it searches a link and returns a soup.\n",
    "    '''\n",
    "\n",
    "    params = {\n",
    "        \"action\": action,\n",
    "        \"page\": link,\n",
    "        \"format\": format\n",
    "    }\n",
    "\n",
    "    response = requests.get(BASE_URL, params=params)\n",
    "\n",
    "    def isReponseOK(response=response):\n",
    "        if response.status_code//100 != 2: # if status code isn't in the 200s\n",
    "            display(f'Something unexpected happened. Status Code returned: {response.status_code}')\n",
    "            return False\n",
    "        else:\n",
    "            display(f'Success! | {response.status_code}')\n",
    "            display(f'Processing current link: {link}')\n",
    "            return True\n",
    "\n",
    "    if not isReponseOK:\n",
    "        return []\n",
    "\n",
    "    def htmlParser_getSoup(response):\n",
    "        data = response.json()\n",
    "\n",
    "        # The main content of the page is in ['parse']['text']['*']\n",
    "        page_html = data['parse']['text']['*']\n",
    "\n",
    "        # We can now use BeautifulSoup to parse this HTML\n",
    "        soup = BeautifulSoup(page_html, 'html.parser')\n",
    "\n",
    "        return soup\n",
    "\n",
    "    soup = htmlParser_getSoup(response)\n",
    "\n",
    "    # Check for redirect indication, and open the first valid link\n",
    "    if \"This is a redirect from a title\" in soup.text:\n",
    "        newTitle = soup.find(\"a\").text\n",
    "        if newTitle:\n",
    "            params['page'] = newTitle\n",
    "\n",
    "            display(f'params: {params}')\n",
    "            response = requests.get(BASE_URL, params=params)\n",
    "            display('----------------------------------------')\n",
    "            return htmlParser_getSoup(response)         \n",
    "    \n",
    "    display('----------------------------------------')\n",
    "    return soup\n",
    "    "
   ]
  },
  {
   "cell_type": "code",
   "execution_count": null,
   "metadata": {},
   "outputs": [],
   "source": [
    "def fuzzySearchName(name, refNames=refNames, score_threshold = 45):\n",
    "    '''\n",
    "        Given a country name, returns the closest match from refNames using fuzzy search.\n",
    "        If no close match is found, it returns \"PLEASE FILL MANUALLY\".\n",
    "    '''\n",
    "    \n",
    "    # If the name is empty or null, return \"UNKNOWN\"\n",
    "    if pd.isna(name) or not name.strip():\n",
    "        return \"UNKNOWN\"\n",
    "\n",
    "    match, score, _ = process.extractOne(name, refNames['Standard Names'])\n",
    "    \n",
    "    # Hardcoding exceptions, due to sharing common words (South, North)\n",
    "    dubiousFuzzyNames = [\n",
    "        'North Korea', 'South Korea', 'South Africa', 'North Macedonia',\n",
    "        'Democratic Republic of Congo', 'Republic of Congo', 'British Empire'\n",
    "    ]\n",
    "\n",
    "    if match in dubiousFuzzyNames:\n",
    "        score_threshold = max(89, score_threshold)\n",
    "        \n",
    "\n",
    "    # If a close match is found, return the match\n",
    "    if score > score_threshold:\n",
    "        return match\n",
    "    \n",
    "    # If no close match is found, ask for manual input\n",
    "    return \"PLEASE FILL MANUALLY\"\n"
   ]
  },
  {
   "cell_type": "code",
   "execution_count": null,
   "metadata": {},
   "outputs": [],
   "source": [
    "# Mapping relevant names to a dataFrame, so our fuzzySearch will work properly\n",
    "expRefNames = pd.DataFrame({\n",
    "    'Standard Names': ['Ottoman Empire', 'Weimar Republic', 'Qing Dynasty', 'Bitterenders', \"Ha'il\", \"Ikhwan\", \"Najran\", \"British Empire\",\n",
    "                       \"England\", 'Kurdistan', \"French\", \"Soviet Union\", \"Kurdish\", \"Ararat\", \"Khan\", \"Saqqawists\", \"Khanty\", \"Muhammad Umar\",\n",
    "                       \"Spanish\", \"Polish\", \"Palestine\", \"Czechoslovakia\", \"Rhodesia\", \"Zaire\", \"Turkistan\", \"hamas\", 'Dutch Empire', 'Portuguese',\n",
    "                       \"Czechia\", \"Kyrgyzstan\", \"Slovakia\"],\n",
    "    'targetNames': ['Turkey', 'Germany', 'China', 'South Africa', \"Saudi Arabia\", \"Saudi Arabia\", \"Saudi Arabia\", \"United Kingdom\",\n",
    "                    \"United Kingdom\", 'Iraq', \"France\", \"Russia\", \"Turkey\", \"Turkey\", \"Afghanistan\", \"Afghanistan\", \"Russia\", \"Kazakhstan\",\n",
    "                    \"Spain\", \"Poland\", \"Israel\", \"Czech Republic\", \"Zimbabwe\", \"Democratic Republic of Congo\", \"Pakistan\", \"Israel\", 'Netherlands', 'Portugal',\n",
    "                    \"Czech Republic\", \"Kyrgyz Republic\", \"Slovak Republic\"]\n",
    "})\n",
    "\n",
    "# Concatenate the dataframes along columns\n",
    "merged_refNames = pd.concat([refNames, expRefNames], axis=0).reset_index(drop=True)"
   ]
  },
  {
   "cell_type": "markdown",
   "metadata": {},
   "source": [
    "### Country Border information\n",
    "We're extracting:\n",
    "- For every country, who their neighbouring countries are\n",
    "- What is the length of the borders in KM (not meaning the circumference of the country, it counts just the parts that touches other countries by Land)\n",
    "    - This means that, at least for our purposes, this data could be more complete. As what (could) actually matter for our model is if a country is close to another, not necessarily touching eachother.\n",
    "    - That is why we'll later join this info with country position, so we'll add more countries to the list, with some sort of distance threshold."
   ]
  },
  {
   "cell_type": "code",
   "execution_count": null,
   "metadata": {},
   "outputs": [],
   "source": [
    "soup = getSoupFromWiki(\"List_of_countries_and_territories_by_number_of_land_borders\")\n",
    "\n",
    "# Find the table with neighbouring countries info (which is the first)\n",
    "table = soup.find('table')"
   ]
  },
  {
   "cell_type": "code",
   "execution_count": null,
   "metadata": {},
   "outputs": [],
   "source": [
    "countriesBordersList = {}\n",
    "for tr in table.findAll('tr')[2:]: # Skip the 2 lines-header row by using slicing\n",
    "    tds = tr.findAll('td')\n",
    "    \n",
    "    countryName = tds[0].find('b').find('a').text \n",
    "    \n",
    "    neighboursBorders_inKM = tds[1].text.strip()    \n",
    "    neighbouring_countries = []\n",
    "    \n",
    "    # Extracting neighbouring countries\n",
    "    links_in_td = tds[5].findAll('a')\n",
    "    if links_in_td:\n",
    "        for a in links_in_td:\n",
    "            if '[' not in a.text: # Excluding reference links\n",
    "                currentName = a.text.strip()\n",
    "                currentName = fuzzySearchName(currentName) # Correcting names with fuzzySearch\n",
    "                \n",
    "                if currentName in refNames['Standard Names'].values: # Discarding mismatchs, only interested in one of the 185 Countries\n",
    "                    neighbouring_countries.append(currentName)\n",
    "\n",
    "    neighbouring_countries = list(set(neighbouring_countries))\n",
    "    # Adding countryName as Key and neighbouring_countries as Value in countriesBordersList dict\n",
    "    countriesBordersList[countryName] = {\n",
    "        'Borders Length (in KM)': neighboursBorders_inKM,\n",
    "        'Neighbouring Countries': neighbouring_countries\n",
    "    }"
   ]
  },
  {
   "cell_type": "code",
   "execution_count": null,
   "metadata": {},
   "outputs": [],
   "source": [
    "# Pivoting the dictionary, before creating the dataFrame\n",
    "data_list = [{'Country Name': country, **values} for country, values in countriesBordersList.items()]\n",
    "\n",
    "# Create a DataFrame from the list of dictionaries\n",
    "df_CountryNeigh = pd.DataFrame(data_list)"
   ]
  },
  {
   "cell_type": "code",
   "execution_count": null,
   "metadata": {},
   "outputs": [],
   "source": [
    "# Fixing Country Name with the standard i'm using in other Data Sets\n",
    "df_CountryNeigh['New Country Name'] = df_CountryNeigh['Country Name'].apply(fuzzySearchName)\n",
    "\n",
    "df_CountryNeigh.loc[df_CountryNeigh['Country Name'] == 'Kyrgyzstan', 'New Country Name'] = 'Kyrgyz Republic'\n",
    "df_CountryNeigh.loc[df_CountryNeigh['Country Name'] == 'Slovakia', 'New Country Name'] = 'Slovak Republic'"
   ]
  },
  {
   "cell_type": "code",
   "execution_count": null,
   "metadata": {},
   "outputs": [],
   "source": [
    "pd.set_option('display.max_rows', 250)\n",
    "pd.set_option('display.min_rows', 135)\n",
    "pd.set_option('display.max_columns', None)\n",
    "\n",
    "# Cleaning Countries in the dataFrame:\n",
    "# - Removing duplicates (where the original Country Name isn't in refNames)\n",
    "# - The only exception is Bahamas, otherwise all other countries work.\n",
    "mask_oldToActual = df_CountryNeigh['Country Name'].isin(refNames['Standard Names'])\n",
    "mask_duplicatedEntries = df_CountryNeigh['New Country Name'].duplicated(keep=False)\n",
    "condition = (~mask_oldToActual) & (mask_duplicatedEntries) & (df_CountryNeigh['Country Name'] != 'Bahamas')\n",
    "\n",
    "df_CountryNeigh = df_CountryNeigh[~condition]\n"
   ]
  },
  {
   "cell_type": "code",
   "execution_count": null,
   "metadata": {},
   "outputs": [],
   "source": [
    "# Removing empty row\n",
    "df_CountryNeigh = df_CountryNeigh[~(df_CountryNeigh['New Country Name'] == 'UNKNOWN')]\n",
    "\n",
    "# Removing old names, and renaming New Country Name column\n",
    "df_CountryNeigh.drop('Country Name', axis = 1, inplace=True)\n",
    "df_CountryNeigh.rename(columns = {'New Country Name': 'Country Name'}, inplace=True)\n",
    "\n",
    "\n",
    "# Manually adding Kosovo, which is missing from the wikipedia page\n",
    "kosovo = {\n",
    "    'Country Name': 'Kosovo',\n",
    "    'Borders Length (in KM)': 743.556,\n",
    "    'Neighbouring Countries': ['Albania', 'Montenegro', 'North Macedonia', 'Serbia']\n",
    "}\n",
    "df_CountryNeigh = pd.concat([df_CountryNeigh, pd.DataFrame([kosovo])], ignore_index=True)"
   ]
  },
  {
   "cell_type": "code",
   "execution_count": null,
   "metadata": {},
   "outputs": [],
   "source": [
    "df_CountryNeigh.head(3)"
   ]
  },
  {
   "cell_type": "markdown",
   "metadata": {},
   "source": [
    "### War information\n",
    "We'll gather all wars between countries (and also significant Civil Wars/Rebellions) from 1900s onward. We'll need to clean them while collecting, as only Wars with recognizable states will be accepted. We'll discard all other instances.\n",
    "\n",
    "This means this probably won't be as thorough/accurate as manual data insertion, but it'll take us 90% there with a fraction of the effort.\n",
    "With such info, we'll estimate:\n",
    "- Distinct Count of neighbours each country has warred with (This means we'll need to filter Civil Wars [Wars with self] for this one)\n",
    "- Count of Wars each country has had with neighbours\n",
    "- Total Count of Wars each country has had"
   ]
  },
  {
   "cell_type": "code",
   "execution_count": null,
   "metadata": {},
   "outputs": [],
   "source": [
    "soup = getSoupFromWiki(\"Lists_of_wars\")"
   ]
  },
  {
   "cell_type": "code",
   "execution_count": null,
   "metadata": {},
   "outputs": [],
   "source": [
    "# Getting all past wars links\n",
    "pastWars_links = soup.findAll('a', string=re.compile(\"List of wars:\"))\n",
    "pastWars_linkList = []\n",
    "\n",
    "# Inserting links from 1900s onward into list\n",
    "for i, link in enumerate(pastWars_links):\n",
    "    if i > 3:\n",
    "        pastWars_linkList.append(link.get('href')[6:])\n"
   ]
  },
  {
   "cell_type": "markdown",
   "metadata": {},
   "source": [
    "We'll now iterate over all tables from the given links"
   ]
  },
  {
   "cell_type": "code",
   "execution_count": null,
   "metadata": {},
   "outputs": [],
   "source": [
    "print(merged_refNames.columns)"
   ]
  },
  {
   "cell_type": "code",
   "execution_count": null,
   "metadata": {},
   "outputs": [],
   "source": [
    "# Fixing URLs format\n",
    "pastWars_linkList = [link.replace(f\"%E2%80%93\", '–') for link in pastWars_linkList]\n",
    "\n",
    "# These dicts will contain Lists as value, storing every Country that warred against the 'key' Country.\n",
    "opponentsByCountry = {}\n",
    "\n",
    "for link in pastWars_linkList:\n",
    "    # For each link, find all tables\n",
    "    soup = getSoupFromWiki(link)\n",
    "    tables = soup.findAll('table')    \n",
    "    \n",
    "    # ------------------------------------- Iterating over each \n",
    "    for table in tables:\n",
    "        # For each table, fetch all rows for parties involved (A vs B)\n",
    "        for tr in table.findAll('tr')[2:]: # Skip the 2 lines-header row by using slicing\n",
    "            tds = tr.findAll('td')\n",
    "\n",
    "            # local store, to permutate later\n",
    "            countriesA = []\n",
    "            countriesB = []\n",
    "            \n",
    "            try:\n",
    "                sideACountries = tds[3].findAll('a')\n",
    "                sideBCountries = tds[4].findAll('a')\n",
    "\n",
    "                # ---------------- Side A\n",
    "                for link in sideACountries:\n",
    "                    countryA = fuzzySearchName(link.text, merged_refNames, score_threshold = 80) # 80 is a good balance, empirically tested on this dataSet\n",
    "\n",
    "                    # If name is valid, change it's 'wikiName' to the targetName I've set before, then append it\n",
    "                    if countryA not in ['PLEASE FILL MANUALLY', 'UNKNOWN']:\n",
    "                        countryA = merged_refNames.loc[merged_refNames['Standard Names'] == countryA]['targetNames'].iloc[0]\n",
    "                        countriesA.append(countryA)\n",
    "\n",
    "                # ---------------- Side B\n",
    "                for link in sideBCountries:\n",
    "                    countryB = fuzzySearchName(link.text, merged_refNames, score_threshold = 85) # I'm more rigorous, since the losing side is more likely to have odd names\n",
    "\n",
    "                    # If name is valid, change it's 'wikiName' to the targetName I've set before, then append it\n",
    "                    if countryB not in ['PLEASE FILL MANUALLY', 'UNKNOWN']:\n",
    "                        countryB = merged_refNames.loc[merged_refNames['Standard Names'] == countryB]['targetNames'].iloc[0]\n",
    "                        countriesB.append(countryB)\n",
    "\n",
    "                # Append to the actual dictionary\n",
    "                for country in countriesA:\n",
    "                    if country in opponentsByCountry:\n",
    "                        # If we've seen the country before, only extend the list.\n",
    "                        opponentsByCountry[country].extend(countriesB)\n",
    "                    else:\n",
    "                        # Else, create a new Key with copied Values\n",
    "                        opponentsByCountry[country] = countriesB.copy()\n",
    "                        \n",
    "\n",
    "            except:\n",
    "                print(f'Current tr has failed. Skipping it this iteration.\\nPS: Probably just the last row though')      "
   ]
  },
  {
   "cell_type": "markdown",
   "metadata": {},
   "source": [
    "### Landlocked Countries\n",
    "We'll extract:\n",
    "- Which countries are landlocked\n",
    "- Neighbour count who has access to the sea (if landlocked) # I'll default 6, if the country isn't landlocked. (as this is the max value + 1, from landlocked countries)"
   ]
  },
  {
   "cell_type": "code",
   "execution_count": null,
   "metadata": {},
   "outputs": [],
   "source": [
    "soup = getSoupFromWiki('Landlocked_country')\n",
    "rows = soup.find('tbody').findAll('tr')\n",
    "\n",
    "df_landLockedCountries = pd.DataFrame(columns=['Country Name', 'isLandLocked', 'n_accessToSea'])\n",
    "set_countries_landLocked = set()\n",
    "\n",
    "for row in rows[2:]:\n",
    "    tds = row.findAll('td')\n",
    "    try:\n",
    "        countryName = fuzzySearchName(tds[0].find('a').text, refNames=merged_refNames, score_threshold = 75)\n",
    "        if countryName == \"PLEASE FILL MANUALLY\" or countryName == \"UNKNOWN\":\n",
    "            continue\n",
    "\n",
    "        # Reverting alternative names back to our naming convention (targetNames)\n",
    "        countryName = merged_refNames.loc[merged_refNames['Standard Names'] == countryName]['targetNames'].iloc[0]\n",
    "\n",
    "        # Neighbours with access to the ocean\n",
    "        n_accessToSea = tds[7].text[0]\n",
    "\n",
    "        # We'll populate a set, to get countries outside of this list\n",
    "        set_countries_landLocked.add(countryName)\n",
    "\n",
    "        # Populating dataFrame\n",
    "        new_row = pd.DataFrame({\n",
    "            'Country Name': [countryName],\n",
    "            'isLandLocked': [True],\n",
    "            'n_accessToSea': [n_accessToSea]\n",
    "        })\n",
    "\n",
    "        df_landLockedCountries = pd.concat([df_landLockedCountries, new_row], ignore_index=True)\n",
    "\n",
    "\n",
    "        #print(f'Country: {countryName}  |  Neighbours with access to ocean: {n_accessToSea}')\n",
    "    except Exception as e:\n",
    "        print(f\"Skipping invalid row. Error: {e}.\")\n"
   ]
  },
  {
   "cell_type": "code",
   "execution_count": null,
   "metadata": {},
   "outputs": [],
   "source": [
    "display(df_landLockedCountries.head(2))\n",
    "display(f\"landLockedCountries's shape: {df_landLockedCountries.shape}\")"
   ]
  },
  {
   "cell_type": "code",
   "execution_count": null,
   "metadata": {},
   "outputs": [],
   "source": [
    "#Now let's populate df_landLockedCountries with countries that does have access to the ocean\n",
    "\n",
    "set_countries_accessOcean = set(df['Country Name'].unique())\n",
    "\n",
    "odd = set(df_landLockedCountries['Country Name'].unique())\n",
    "\n",
    "diff = set_countries_accessOcean - set_countries_landLocked\n",
    "\n",
    "for country in diff:\n",
    "    new_row = pd.DataFrame({\n",
    "            'Country Name': [country],\n",
    "            'isLandLocked': [False],\n",
    "            'n_accessToSea': [6]\n",
    "        })\n",
    "\n",
    "    df_landLockedCountries = pd.concat([df_landLockedCountries, new_row], ignore_index=True)\n",
    "\n",
    "display(f'Shape of df_landLockedCountries: {df_landLockedCountries.shape}')\n",
    "display(df_landLockedCountries.head(2))\n",
    "display(df_landLockedCountries.tail(2))\n",
    "\n"
   ]
  },
  {
   "cell_type": "markdown",
   "metadata": {},
   "source": [
    "### General Country Info\n",
    "We'll extract:\n",
    "- Top 3 religions\n",
    "- Top Languages\n",
    "- Country Position in Globe\n",
    "- Type of Government"
   ]
  },
  {
   "cell_type": "code",
   "execution_count": null,
   "metadata": {},
   "outputs": [],
   "source": [
    "conutriesList = df['Country Name'].unique()\n",
    "\n",
    "TEMP_LIM = 0\n",
    "\n",
    "for country in conutriesList:\n",
    "    if TEMP_LIM >1:\n",
    "        break\n",
    "    TEMP_LIM += 1\n",
    "    \n",
    "    try:\n",
    "        # get the first table\n",
    "        soup = getSoupFromWiki(country).find('table')\n",
    "        \n",
    "        # Find Official Languages\n",
    "    except Exception as e:\n",
    "        display(f'Some error occurred. Skipping {country}.\\nError:{e}')"
   ]
  },
  {
   "cell_type": "markdown",
   "metadata": {},
   "source": [
    "### Infrastructure data collection\n",
    "Now let's collect some basic infrastructure stats. We'll use the latest available numbers from wiki.\n",
    "- Railroads\n",
    "    - RailLength/Country Area (already calculated by wiki)\n",
    "    - % of the total electrified\n",
    "- Road Network\n",
    "    - Density (km/100 km²)\n",
    "- Ports\n",
    "    - Number of Ports\n",
    "    - Container port traffic per country\n"
   ]
  },
  {
   "cell_type": "code",
   "execution_count": null,
   "metadata": {},
   "outputs": [],
   "source": [
    "#opponentsByCountry['Brazil']"
   ]
  },
  {
   "cell_type": "code",
   "execution_count": null,
   "metadata": {},
   "outputs": [],
   "source": []
  }
 ],
 "metadata": {
  "kernelspec": {
   "display_name": "EconStats",
   "language": "python",
   "name": "python3"
  },
  "language_info": {
   "codemirror_mode": {
    "name": "ipython",
    "version": 3
   },
   "file_extension": ".py",
   "mimetype": "text/x-python",
   "name": "python",
   "nbconvert_exporter": "python",
   "pygments_lexer": "ipython3",
   "version": "3.10.13"
  }
 },
 "nbformat": 4,
 "nbformat_minor": 2
}
